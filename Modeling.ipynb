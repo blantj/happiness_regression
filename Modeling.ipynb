{
 "cells": [
  {
   "cell_type": "markdown",
   "id": "63dd2fcd",
   "metadata": {},
   "source": [
    "# Import Libraries"
   ]
  },
  {
   "cell_type": "code",
   "execution_count": 107,
   "id": "bfbe8099",
   "metadata": {},
   "outputs": [],
   "source": [
    "import pandas as pd\n",
    "from sklearn.impute import KNNImputer\n",
    "from sklearn.ensemble import IsolationForest\n",
    "from sklearn.preprocessing import StandardScaler\n",
    "import matplotlib.pyplot as plt\n",
    "import seaborn as sns"
   ]
  },
  {
   "cell_type": "markdown",
   "id": "f4698be5",
   "metadata": {},
   "source": [
    "# Obtain Data"
   ]
  },
  {
   "cell_type": "markdown",
   "id": "683a8265",
   "metadata": {},
   "source": [
    "Read csv with happiness data into Pandas"
   ]
  },
  {
   "cell_type": "code",
   "execution_count": 61,
   "id": "895d8807",
   "metadata": {},
   "outputs": [
    {
     "data": {
      "text/html": [
       "<div>\n",
       "<style scoped>\n",
       "    .dataframe tbody tr th:only-of-type {\n",
       "        vertical-align: middle;\n",
       "    }\n",
       "\n",
       "    .dataframe tbody tr th {\n",
       "        vertical-align: top;\n",
       "    }\n",
       "\n",
       "    .dataframe thead th {\n",
       "        text-align: right;\n",
       "    }\n",
       "</style>\n",
       "<table border=\"1\" class=\"dataframe\">\n",
       "  <thead>\n",
       "    <tr style=\"text-align: right;\">\n",
       "      <th></th>\n",
       "      <th>Country name</th>\n",
       "      <th>year</th>\n",
       "      <th>Life Ladder</th>\n",
       "      <th>Log GDP per capita</th>\n",
       "      <th>Social support</th>\n",
       "      <th>Healthy life expectancy at birth</th>\n",
       "      <th>Freedom to make life choices</th>\n",
       "      <th>Generosity</th>\n",
       "      <th>Perceptions of corruption</th>\n",
       "      <th>Positive affect</th>\n",
       "      <th>Negative affect</th>\n",
       "    </tr>\n",
       "  </thead>\n",
       "  <tbody>\n",
       "    <tr>\n",
       "      <th>0</th>\n",
       "      <td>Afghanistan</td>\n",
       "      <td>2008</td>\n",
       "      <td>3.724</td>\n",
       "      <td>7.370</td>\n",
       "      <td>0.451</td>\n",
       "      <td>50.80</td>\n",
       "      <td>0.718</td>\n",
       "      <td>0.168</td>\n",
       "      <td>0.882</td>\n",
       "      <td>0.518</td>\n",
       "      <td>0.258</td>\n",
       "    </tr>\n",
       "    <tr>\n",
       "      <th>1</th>\n",
       "      <td>Afghanistan</td>\n",
       "      <td>2009</td>\n",
       "      <td>4.402</td>\n",
       "      <td>7.540</td>\n",
       "      <td>0.552</td>\n",
       "      <td>51.20</td>\n",
       "      <td>0.679</td>\n",
       "      <td>0.190</td>\n",
       "      <td>0.850</td>\n",
       "      <td>0.584</td>\n",
       "      <td>0.237</td>\n",
       "    </tr>\n",
       "    <tr>\n",
       "      <th>2</th>\n",
       "      <td>Afghanistan</td>\n",
       "      <td>2010</td>\n",
       "      <td>4.758</td>\n",
       "      <td>7.647</td>\n",
       "      <td>0.539</td>\n",
       "      <td>51.60</td>\n",
       "      <td>0.600</td>\n",
       "      <td>0.121</td>\n",
       "      <td>0.707</td>\n",
       "      <td>0.618</td>\n",
       "      <td>0.275</td>\n",
       "    </tr>\n",
       "    <tr>\n",
       "      <th>3</th>\n",
       "      <td>Afghanistan</td>\n",
       "      <td>2011</td>\n",
       "      <td>3.832</td>\n",
       "      <td>7.620</td>\n",
       "      <td>0.521</td>\n",
       "      <td>51.92</td>\n",
       "      <td>0.496</td>\n",
       "      <td>0.162</td>\n",
       "      <td>0.731</td>\n",
       "      <td>0.611</td>\n",
       "      <td>0.267</td>\n",
       "    </tr>\n",
       "    <tr>\n",
       "      <th>4</th>\n",
       "      <td>Afghanistan</td>\n",
       "      <td>2012</td>\n",
       "      <td>3.783</td>\n",
       "      <td>7.705</td>\n",
       "      <td>0.521</td>\n",
       "      <td>52.24</td>\n",
       "      <td>0.531</td>\n",
       "      <td>0.236</td>\n",
       "      <td>0.776</td>\n",
       "      <td>0.710</td>\n",
       "      <td>0.268</td>\n",
       "    </tr>\n",
       "  </tbody>\n",
       "</table>\n",
       "</div>"
      ],
      "text/plain": [
       "  Country name  year  Life Ladder  Log GDP per capita  Social support  \\\n",
       "0  Afghanistan  2008        3.724               7.370           0.451   \n",
       "1  Afghanistan  2009        4.402               7.540           0.552   \n",
       "2  Afghanistan  2010        4.758               7.647           0.539   \n",
       "3  Afghanistan  2011        3.832               7.620           0.521   \n",
       "4  Afghanistan  2012        3.783               7.705           0.521   \n",
       "\n",
       "   Healthy life expectancy at birth  Freedom to make life choices  Generosity  \\\n",
       "0                             50.80                         0.718       0.168   \n",
       "1                             51.20                         0.679       0.190   \n",
       "2                             51.60                         0.600       0.121   \n",
       "3                             51.92                         0.496       0.162   \n",
       "4                             52.24                         0.531       0.236   \n",
       "\n",
       "   Perceptions of corruption  Positive affect  Negative affect  \n",
       "0                      0.882            0.518            0.258  \n",
       "1                      0.850            0.584            0.237  \n",
       "2                      0.707            0.618            0.275  \n",
       "3                      0.731            0.611            0.267  \n",
       "4                      0.776            0.710            0.268  "
      ]
     },
     "execution_count": 61,
     "metadata": {},
     "output_type": "execute_result"
    }
   ],
   "source": [
    "df = pd.read_csv('Data/world-happiness-report.csv')\n",
    "df.head()"
   ]
  },
  {
   "cell_type": "markdown",
   "id": "36a86847",
   "metadata": {},
   "source": [
    "# Scrub Data"
   ]
  },
  {
   "cell_type": "markdown",
   "id": "7c496beb",
   "metadata": {},
   "source": [
    "Calculate number of datapoints by year in order to determine which year to use for modeling"
   ]
  },
  {
   "cell_type": "code",
   "execution_count": 62,
   "id": "8d5663ee",
   "metadata": {},
   "outputs": [
    {
     "data": {
      "text/plain": [
       "year\n",
       "2005     27\n",
       "2006     89\n",
       "2007    102\n",
       "2008    110\n",
       "2009    114\n",
       "2010    124\n",
       "2011    146\n",
       "2012    142\n",
       "2013    137\n",
       "2014    145\n",
       "2015    143\n",
       "2016    142\n",
       "2017    147\n",
       "2018    142\n",
       "2019    144\n",
       "2020     95\n",
       "Name: Country name, dtype: int64"
      ]
     },
     "execution_count": 62,
     "metadata": {},
     "output_type": "execute_result"
    }
   ],
   "source": [
    "df.groupby('year').count()['Country name']"
   ]
  },
  {
   "cell_type": "markdown",
   "id": "63d19e7d",
   "metadata": {},
   "source": [
    "Use data for 2017 in modeling and drop data for all other years from the df"
   ]
  },
  {
   "cell_type": "code",
   "execution_count": 63,
   "id": "cc2c646e",
   "metadata": {},
   "outputs": [
    {
     "data": {
      "text/html": [
       "<div>\n",
       "<style scoped>\n",
       "    .dataframe tbody tr th:only-of-type {\n",
       "        vertical-align: middle;\n",
       "    }\n",
       "\n",
       "    .dataframe tbody tr th {\n",
       "        vertical-align: top;\n",
       "    }\n",
       "\n",
       "    .dataframe thead th {\n",
       "        text-align: right;\n",
       "    }\n",
       "</style>\n",
       "<table border=\"1\" class=\"dataframe\">\n",
       "  <thead>\n",
       "    <tr style=\"text-align: right;\">\n",
       "      <th></th>\n",
       "      <th>Country name</th>\n",
       "      <th>Life Ladder</th>\n",
       "      <th>Log GDP per capita</th>\n",
       "      <th>Social support</th>\n",
       "      <th>Healthy life expectancy at birth</th>\n",
       "      <th>Freedom to make life choices</th>\n",
       "      <th>Generosity</th>\n",
       "      <th>Perceptions of corruption</th>\n",
       "      <th>Positive affect</th>\n",
       "      <th>Negative affect</th>\n",
       "    </tr>\n",
       "  </thead>\n",
       "  <tbody>\n",
       "    <tr>\n",
       "      <th>0</th>\n",
       "      <td>Afghanistan</td>\n",
       "      <td>2.662</td>\n",
       "      <td>7.697</td>\n",
       "      <td>0.491</td>\n",
       "      <td>52.8</td>\n",
       "      <td>0.427</td>\n",
       "      <td>-0.121</td>\n",
       "      <td>0.954</td>\n",
       "      <td>0.496</td>\n",
       "      <td>0.371</td>\n",
       "    </tr>\n",
       "    <tr>\n",
       "      <th>1</th>\n",
       "      <td>Albania</td>\n",
       "      <td>4.640</td>\n",
       "      <td>9.476</td>\n",
       "      <td>0.638</td>\n",
       "      <td>68.4</td>\n",
       "      <td>0.750</td>\n",
       "      <td>-0.029</td>\n",
       "      <td>0.876</td>\n",
       "      <td>0.669</td>\n",
       "      <td>0.334</td>\n",
       "    </tr>\n",
       "    <tr>\n",
       "      <th>2</th>\n",
       "      <td>Algeria</td>\n",
       "      <td>5.249</td>\n",
       "      <td>9.354</td>\n",
       "      <td>0.807</td>\n",
       "      <td>65.7</td>\n",
       "      <td>0.437</td>\n",
       "      <td>-0.167</td>\n",
       "      <td>0.700</td>\n",
       "      <td>0.642</td>\n",
       "      <td>0.289</td>\n",
       "    </tr>\n",
       "    <tr>\n",
       "      <th>3</th>\n",
       "      <td>Argentina</td>\n",
       "      <td>6.039</td>\n",
       "      <td>10.067</td>\n",
       "      <td>0.907</td>\n",
       "      <td>68.6</td>\n",
       "      <td>0.832</td>\n",
       "      <td>-0.186</td>\n",
       "      <td>0.841</td>\n",
       "      <td>0.809</td>\n",
       "      <td>0.292</td>\n",
       "    </tr>\n",
       "    <tr>\n",
       "      <th>4</th>\n",
       "      <td>Armenia</td>\n",
       "      <td>4.288</td>\n",
       "      <td>9.402</td>\n",
       "      <td>0.698</td>\n",
       "      <td>66.6</td>\n",
       "      <td>0.614</td>\n",
       "      <td>-0.147</td>\n",
       "      <td>0.865</td>\n",
       "      <td>0.625</td>\n",
       "      <td>0.437</td>\n",
       "    </tr>\n",
       "  </tbody>\n",
       "</table>\n",
       "</div>"
      ],
      "text/plain": [
       "  Country name  Life Ladder  Log GDP per capita  Social support  \\\n",
       "0  Afghanistan        2.662               7.697           0.491   \n",
       "1      Albania        4.640               9.476           0.638   \n",
       "2      Algeria        5.249               9.354           0.807   \n",
       "3    Argentina        6.039              10.067           0.907   \n",
       "4      Armenia        4.288               9.402           0.698   \n",
       "\n",
       "   Healthy life expectancy at birth  Freedom to make life choices  Generosity  \\\n",
       "0                              52.8                         0.427      -0.121   \n",
       "1                              68.4                         0.750      -0.029   \n",
       "2                              65.7                         0.437      -0.167   \n",
       "3                              68.6                         0.832      -0.186   \n",
       "4                              66.6                         0.614      -0.147   \n",
       "\n",
       "   Perceptions of corruption  Positive affect  Negative affect  \n",
       "0                      0.954            0.496            0.371  \n",
       "1                      0.876            0.669            0.334  \n",
       "2                      0.700            0.642            0.289  \n",
       "3                      0.841            0.809            0.292  \n",
       "4                      0.865            0.625            0.437  "
      ]
     },
     "execution_count": 63,
     "metadata": {},
     "output_type": "execute_result"
    }
   ],
   "source": [
    "df = df[df['year']==2017]\n",
    "df.reset_index(drop=True, inplace=True)\n",
    "df.drop(columns='year', inplace=True)\n",
    "df.head()"
   ]
  },
  {
   "cell_type": "markdown",
   "id": "0b0f3c29",
   "metadata": {},
   "source": [
    "use df.info() to determine what scrubbing needed"
   ]
  },
  {
   "cell_type": "code",
   "execution_count": 64,
   "id": "3f579a08",
   "metadata": {},
   "outputs": [
    {
     "name": "stdout",
     "output_type": "stream",
     "text": [
      "<class 'pandas.core.frame.DataFrame'>\n",
      "RangeIndex: 147 entries, 0 to 146\n",
      "Data columns (total 10 columns):\n",
      " #   Column                            Non-Null Count  Dtype  \n",
      "---  ------                            --------------  -----  \n",
      " 0   Country name                      147 non-null    object \n",
      " 1   Life Ladder                       147 non-null    float64\n",
      " 2   Log GDP per capita                146 non-null    float64\n",
      " 3   Social support                    146 non-null    float64\n",
      " 4   Healthy life expectancy at birth  143 non-null    float64\n",
      " 5   Freedom to make life choices      146 non-null    float64\n",
      " 6   Generosity                        145 non-null    float64\n",
      " 7   Perceptions of corruption         137 non-null    float64\n",
      " 8   Positive affect                   146 non-null    float64\n",
      " 9   Negative affect                   146 non-null    float64\n",
      "dtypes: float64(9), object(1)\n",
      "memory usage: 11.6+ KB\n"
     ]
    }
   ],
   "source": [
    "df.info()"
   ]
  },
  {
   "cell_type": "markdown",
   "id": "324506ae",
   "metadata": {},
   "source": [
    "Drop object variables and other variables not useful for modeling"
   ]
  },
  {
   "cell_type": "code",
   "execution_count": 65,
   "id": "8a5189d5",
   "metadata": {},
   "outputs": [
    {
     "data": {
      "text/html": [
       "<div>\n",
       "<style scoped>\n",
       "    .dataframe tbody tr th:only-of-type {\n",
       "        vertical-align: middle;\n",
       "    }\n",
       "\n",
       "    .dataframe tbody tr th {\n",
       "        vertical-align: top;\n",
       "    }\n",
       "\n",
       "    .dataframe thead th {\n",
       "        text-align: right;\n",
       "    }\n",
       "</style>\n",
       "<table border=\"1\" class=\"dataframe\">\n",
       "  <thead>\n",
       "    <tr style=\"text-align: right;\">\n",
       "      <th></th>\n",
       "      <th>Life Ladder</th>\n",
       "      <th>Log GDP per capita</th>\n",
       "      <th>Social support</th>\n",
       "      <th>Healthy life expectancy at birth</th>\n",
       "      <th>Freedom to make life choices</th>\n",
       "      <th>Generosity</th>\n",
       "      <th>Perceptions of corruption</th>\n",
       "    </tr>\n",
       "  </thead>\n",
       "  <tbody>\n",
       "    <tr>\n",
       "      <th>0</th>\n",
       "      <td>2.662</td>\n",
       "      <td>7.697</td>\n",
       "      <td>0.491</td>\n",
       "      <td>52.8</td>\n",
       "      <td>0.427</td>\n",
       "      <td>-0.121</td>\n",
       "      <td>0.954</td>\n",
       "    </tr>\n",
       "    <tr>\n",
       "      <th>1</th>\n",
       "      <td>4.640</td>\n",
       "      <td>9.476</td>\n",
       "      <td>0.638</td>\n",
       "      <td>68.4</td>\n",
       "      <td>0.750</td>\n",
       "      <td>-0.029</td>\n",
       "      <td>0.876</td>\n",
       "    </tr>\n",
       "    <tr>\n",
       "      <th>2</th>\n",
       "      <td>5.249</td>\n",
       "      <td>9.354</td>\n",
       "      <td>0.807</td>\n",
       "      <td>65.7</td>\n",
       "      <td>0.437</td>\n",
       "      <td>-0.167</td>\n",
       "      <td>0.700</td>\n",
       "    </tr>\n",
       "    <tr>\n",
       "      <th>3</th>\n",
       "      <td>6.039</td>\n",
       "      <td>10.067</td>\n",
       "      <td>0.907</td>\n",
       "      <td>68.6</td>\n",
       "      <td>0.832</td>\n",
       "      <td>-0.186</td>\n",
       "      <td>0.841</td>\n",
       "    </tr>\n",
       "    <tr>\n",
       "      <th>4</th>\n",
       "      <td>4.288</td>\n",
       "      <td>9.402</td>\n",
       "      <td>0.698</td>\n",
       "      <td>66.6</td>\n",
       "      <td>0.614</td>\n",
       "      <td>-0.147</td>\n",
       "      <td>0.865</td>\n",
       "    </tr>\n",
       "  </tbody>\n",
       "</table>\n",
       "</div>"
      ],
      "text/plain": [
       "   Life Ladder  Log GDP per capita  Social support  \\\n",
       "0        2.662               7.697           0.491   \n",
       "1        4.640               9.476           0.638   \n",
       "2        5.249               9.354           0.807   \n",
       "3        6.039              10.067           0.907   \n",
       "4        4.288               9.402           0.698   \n",
       "\n",
       "   Healthy life expectancy at birth  Freedom to make life choices  Generosity  \\\n",
       "0                              52.8                         0.427      -0.121   \n",
       "1                              68.4                         0.750      -0.029   \n",
       "2                              65.7                         0.437      -0.167   \n",
       "3                              68.6                         0.832      -0.186   \n",
       "4                              66.6                         0.614      -0.147   \n",
       "\n",
       "   Perceptions of corruption  \n",
       "0                      0.954  \n",
       "1                      0.876  \n",
       "2                      0.700  \n",
       "3                      0.841  \n",
       "4                      0.865  "
      ]
     },
     "execution_count": 65,
     "metadata": {},
     "output_type": "execute_result"
    }
   ],
   "source": [
    "df.drop(columns=['Country name', 'Positive affect', 'Negative affect'], inplace=True)\n",
    "df.head()"
   ]
  },
  {
   "cell_type": "markdown",
   "id": "bc9baaa5",
   "metadata": {},
   "source": [
    "Replace missing values with knn imputer"
   ]
  },
  {
   "cell_type": "code",
   "execution_count": 66,
   "id": "b57c60ab",
   "metadata": {},
   "outputs": [
    {
     "data": {
      "text/html": [
       "<div>\n",
       "<style scoped>\n",
       "    .dataframe tbody tr th:only-of-type {\n",
       "        vertical-align: middle;\n",
       "    }\n",
       "\n",
       "    .dataframe tbody tr th {\n",
       "        vertical-align: top;\n",
       "    }\n",
       "\n",
       "    .dataframe thead th {\n",
       "        text-align: right;\n",
       "    }\n",
       "</style>\n",
       "<table border=\"1\" class=\"dataframe\">\n",
       "  <thead>\n",
       "    <tr style=\"text-align: right;\">\n",
       "      <th></th>\n",
       "      <th>Life Ladder</th>\n",
       "      <th>Log GDP per capita</th>\n",
       "      <th>Social support</th>\n",
       "      <th>Healthy life expectancy at birth</th>\n",
       "      <th>Freedom to make life choices</th>\n",
       "      <th>Generosity</th>\n",
       "      <th>Perceptions of corruption</th>\n",
       "    </tr>\n",
       "  </thead>\n",
       "  <tbody>\n",
       "    <tr>\n",
       "      <th>0</th>\n",
       "      <td>2.662</td>\n",
       "      <td>7.697</td>\n",
       "      <td>0.491</td>\n",
       "      <td>52.8</td>\n",
       "      <td>0.427</td>\n",
       "      <td>-0.121</td>\n",
       "      <td>0.954</td>\n",
       "    </tr>\n",
       "    <tr>\n",
       "      <th>1</th>\n",
       "      <td>4.640</td>\n",
       "      <td>9.476</td>\n",
       "      <td>0.638</td>\n",
       "      <td>68.4</td>\n",
       "      <td>0.750</td>\n",
       "      <td>-0.029</td>\n",
       "      <td>0.876</td>\n",
       "    </tr>\n",
       "    <tr>\n",
       "      <th>2</th>\n",
       "      <td>5.249</td>\n",
       "      <td>9.354</td>\n",
       "      <td>0.807</td>\n",
       "      <td>65.7</td>\n",
       "      <td>0.437</td>\n",
       "      <td>-0.167</td>\n",
       "      <td>0.700</td>\n",
       "    </tr>\n",
       "    <tr>\n",
       "      <th>3</th>\n",
       "      <td>6.039</td>\n",
       "      <td>10.067</td>\n",
       "      <td>0.907</td>\n",
       "      <td>68.6</td>\n",
       "      <td>0.832</td>\n",
       "      <td>-0.186</td>\n",
       "      <td>0.841</td>\n",
       "    </tr>\n",
       "    <tr>\n",
       "      <th>4</th>\n",
       "      <td>4.288</td>\n",
       "      <td>9.402</td>\n",
       "      <td>0.698</td>\n",
       "      <td>66.6</td>\n",
       "      <td>0.614</td>\n",
       "      <td>-0.147</td>\n",
       "      <td>0.865</td>\n",
       "    </tr>\n",
       "  </tbody>\n",
       "</table>\n",
       "</div>"
      ],
      "text/plain": [
       "   Life Ladder  Log GDP per capita  Social support  \\\n",
       "0        2.662               7.697           0.491   \n",
       "1        4.640               9.476           0.638   \n",
       "2        5.249               9.354           0.807   \n",
       "3        6.039              10.067           0.907   \n",
       "4        4.288               9.402           0.698   \n",
       "\n",
       "   Healthy life expectancy at birth  Freedom to make life choices  Generosity  \\\n",
       "0                              52.8                         0.427      -0.121   \n",
       "1                              68.4                         0.750      -0.029   \n",
       "2                              65.7                         0.437      -0.167   \n",
       "3                              68.6                         0.832      -0.186   \n",
       "4                              66.6                         0.614      -0.147   \n",
       "\n",
       "   Perceptions of corruption  \n",
       "0                      0.954  \n",
       "1                      0.876  \n",
       "2                      0.700  \n",
       "3                      0.841  \n",
       "4                      0.865  "
      ]
     },
     "execution_count": 66,
     "metadata": {},
     "output_type": "execute_result"
    }
   ],
   "source": [
    "knn_x = df.drop(columns='Life Ladder')\n",
    "knn_imputer = KNNImputer()\n",
    "imputed_x = pd.DataFrame(knn_imputer.fit_transform(knn_x), columns=knn_x.columns)\n",
    "scrubbed_df = pd.concat([df[['Life Ladder']], imputed_x], axis=1)\n",
    "scrubbed_df.head()"
   ]
  },
  {
   "cell_type": "markdown",
   "id": "a79a2fb3",
   "metadata": {},
   "source": [
    "Confirm data is now scrubbed with scrubbed_df.info()"
   ]
  },
  {
   "cell_type": "code",
   "execution_count": 67,
   "id": "7b58689a",
   "metadata": {},
   "outputs": [
    {
     "name": "stdout",
     "output_type": "stream",
     "text": [
      "<class 'pandas.core.frame.DataFrame'>\n",
      "RangeIndex: 147 entries, 0 to 146\n",
      "Data columns (total 7 columns):\n",
      " #   Column                            Non-Null Count  Dtype  \n",
      "---  ------                            --------------  -----  \n",
      " 0   Life Ladder                       147 non-null    float64\n",
      " 1   Log GDP per capita                147 non-null    float64\n",
      " 2   Social support                    147 non-null    float64\n",
      " 3   Healthy life expectancy at birth  147 non-null    float64\n",
      " 4   Freedom to make life choices      147 non-null    float64\n",
      " 5   Generosity                        147 non-null    float64\n",
      " 6   Perceptions of corruption         147 non-null    float64\n",
      "dtypes: float64(7)\n",
      "memory usage: 8.2 KB\n"
     ]
    }
   ],
   "source": [
    "scrubbed_df.info()"
   ]
  },
  {
   "cell_type": "markdown",
   "id": "2ded2b29",
   "metadata": {},
   "source": [
    "# Explore Data"
   ]
  },
  {
   "cell_type": "markdown",
   "id": "961d6571",
   "metadata": {},
   "source": [
    "Use isolation forest to identify greatest 5% outliers"
   ]
  },
  {
   "cell_type": "code",
   "execution_count": 91,
   "id": "5b70c935",
   "metadata": {},
   "outputs": [
    {
     "data": {
      "text/html": [
       "<div>\n",
       "<style scoped>\n",
       "    .dataframe tbody tr th:only-of-type {\n",
       "        vertical-align: middle;\n",
       "    }\n",
       "\n",
       "    .dataframe tbody tr th {\n",
       "        vertical-align: top;\n",
       "    }\n",
       "\n",
       "    .dataframe thead th {\n",
       "        text-align: right;\n",
       "    }\n",
       "</style>\n",
       "<table border=\"1\" class=\"dataframe\">\n",
       "  <thead>\n",
       "    <tr style=\"text-align: right;\">\n",
       "      <th></th>\n",
       "      <th>Log GDP per capita</th>\n",
       "      <th>Social support</th>\n",
       "      <th>Healthy life expectancy at birth</th>\n",
       "      <th>Freedom to make life choices</th>\n",
       "      <th>Generosity</th>\n",
       "      <th>Perceptions of corruption</th>\n",
       "      <th>Outlier</th>\n",
       "    </tr>\n",
       "  </thead>\n",
       "  <tbody>\n",
       "    <tr>\n",
       "      <th>0</th>\n",
       "      <td>7.697</td>\n",
       "      <td>0.491</td>\n",
       "      <td>52.8</td>\n",
       "      <td>0.427</td>\n",
       "      <td>-0.121</td>\n",
       "      <td>0.954</td>\n",
       "      <td>-1</td>\n",
       "    </tr>\n",
       "    <tr>\n",
       "      <th>22</th>\n",
       "      <td>6.817</td>\n",
       "      <td>0.320</td>\n",
       "      <td>45.2</td>\n",
       "      <td>0.645</td>\n",
       "      <td>0.073</td>\n",
       "      <td>0.890</td>\n",
       "      <td>-1</td>\n",
       "    </tr>\n",
       "    <tr>\n",
       "      <th>47</th>\n",
       "      <td>10.278</td>\n",
       "      <td>0.753</td>\n",
       "      <td>72.2</td>\n",
       "      <td>0.438</td>\n",
       "      <td>-0.290</td>\n",
       "      <td>0.872</td>\n",
       "      <td>-1</td>\n",
       "    </tr>\n",
       "    <tr>\n",
       "      <th>50</th>\n",
       "      <td>7.475</td>\n",
       "      <td>0.647</td>\n",
       "      <td>55.5</td>\n",
       "      <td>0.484</td>\n",
       "      <td>0.381</td>\n",
       "      <td>0.647</td>\n",
       "      <td>-1</td>\n",
       "    </tr>\n",
       "    <tr>\n",
       "      <th>91</th>\n",
       "      <td>8.464</td>\n",
       "      <td>0.795</td>\n",
       "      <td>58.7</td>\n",
       "      <td>0.886</td>\n",
       "      <td>0.650</td>\n",
       "      <td>0.619</td>\n",
       "      <td>-1</td>\n",
       "    </tr>\n",
       "    <tr>\n",
       "      <th>111</th>\n",
       "      <td>7.588</td>\n",
       "      <td>0.517</td>\n",
       "      <td>60.5</td>\n",
       "      <td>0.908</td>\n",
       "      <td>0.051</td>\n",
       "      <td>0.214</td>\n",
       "      <td>-1</td>\n",
       "    </tr>\n",
       "    <tr>\n",
       "      <th>116</th>\n",
       "      <td>11.461</td>\n",
       "      <td>0.897</td>\n",
       "      <td>76.5</td>\n",
       "      <td>0.926</td>\n",
       "      <td>0.136</td>\n",
       "      <td>0.162</td>\n",
       "      <td>-1</td>\n",
       "    </tr>\n",
       "    <tr>\n",
       "      <th>141</th>\n",
       "      <td>8.782</td>\n",
       "      <td>0.942</td>\n",
       "      <td>64.8</td>\n",
       "      <td>0.985</td>\n",
       "      <td>0.123</td>\n",
       "      <td>0.465</td>\n",
       "      <td>-1</td>\n",
       "    </tr>\n",
       "  </tbody>\n",
       "</table>\n",
       "</div>"
      ],
      "text/plain": [
       "     Log GDP per capita  Social support  Healthy life expectancy at birth  \\\n",
       "0                 7.697           0.491                              52.8   \n",
       "22                6.817           0.320                              45.2   \n",
       "47               10.278           0.753                              72.2   \n",
       "50                7.475           0.647                              55.5   \n",
       "91                8.464           0.795                              58.7   \n",
       "111               7.588           0.517                              60.5   \n",
       "116              11.461           0.897                              76.5   \n",
       "141               8.782           0.942                              64.8   \n",
       "\n",
       "     Freedom to make life choices  Generosity  Perceptions of corruption  \\\n",
       "0                           0.427      -0.121                      0.954   \n",
       "22                          0.645       0.073                      0.890   \n",
       "47                          0.438      -0.290                      0.872   \n",
       "50                          0.484       0.381                      0.647   \n",
       "91                          0.886       0.650                      0.619   \n",
       "111                         0.908       0.051                      0.214   \n",
       "116                         0.926       0.136                      0.162   \n",
       "141                         0.985       0.123                      0.465   \n",
       "\n",
       "     Outlier  \n",
       "0         -1  \n",
       "22        -1  \n",
       "47        -1  \n",
       "50        -1  \n",
       "91        -1  \n",
       "111       -1  \n",
       "116       -1  \n",
       "141       -1  "
      ]
     },
     "execution_count": 91,
     "metadata": {},
     "output_type": "execute_result"
    }
   ],
   "source": [
    "if_x = scrubbed_df.drop(columns='Life Ladder')\n",
    "isf = IsolationForest(random_state=72, contamination=.05)\n",
    "isf.fit(if_x)\n",
    "if_x['Outlier'] = isf.predict(if_x)\n",
    "outlier_indices = if_x[if_x['Outlier']==-1].index\n",
    "if_x[if_x['Outlier']==-1]"
   ]
  },
  {
   "cell_type": "markdown",
   "id": "15d9b003",
   "metadata": {},
   "source": [
    "Confirm no need to drop any outliers by observing standard scaled datapoints for 5% greatest outliers"
   ]
  },
  {
   "cell_type": "code",
   "execution_count": 103,
   "id": "09c919db",
   "metadata": {},
   "outputs": [
    {
     "data": {
      "text/html": [
       "<div>\n",
       "<style scoped>\n",
       "    .dataframe tbody tr th:only-of-type {\n",
       "        vertical-align: middle;\n",
       "    }\n",
       "\n",
       "    .dataframe tbody tr th {\n",
       "        vertical-align: top;\n",
       "    }\n",
       "\n",
       "    .dataframe thead th {\n",
       "        text-align: right;\n",
       "    }\n",
       "</style>\n",
       "<table border=\"1\" class=\"dataframe\">\n",
       "  <thead>\n",
       "    <tr style=\"text-align: right;\">\n",
       "      <th></th>\n",
       "      <th>Log GDP per capita</th>\n",
       "      <th>Social support</th>\n",
       "      <th>Healthy life expectancy at birth</th>\n",
       "      <th>Freedom to make life choices</th>\n",
       "      <th>Generosity</th>\n",
       "      <th>Perceptions of corruption</th>\n",
       "    </tr>\n",
       "  </thead>\n",
       "  <tbody>\n",
       "    <tr>\n",
       "      <th>0</th>\n",
       "      <td>-1.449950</td>\n",
       "      <td>-2.590515</td>\n",
       "      <td>-1.603502</td>\n",
       "      <td>-2.797319</td>\n",
       "      <td>-0.728799</td>\n",
       "      <td>1.248788</td>\n",
       "    </tr>\n",
       "    <tr>\n",
       "      <th>22</th>\n",
       "      <td>-2.200287</td>\n",
       "      <td>-3.999583</td>\n",
       "      <td>-2.679850</td>\n",
       "      <td>-1.074047</td>\n",
       "      <td>0.511142</td>\n",
       "      <td>0.889275</td>\n",
       "    </tr>\n",
       "    <tr>\n",
       "      <th>47</th>\n",
       "      <td>0.750753</td>\n",
       "      <td>-0.431594</td>\n",
       "      <td>1.144016</td>\n",
       "      <td>-2.710365</td>\n",
       "      <td>-1.808954</td>\n",
       "      <td>0.788162</td>\n",
       "    </tr>\n",
       "    <tr>\n",
       "      <th>50</th>\n",
       "      <td>-1.639239</td>\n",
       "      <td>-1.305051</td>\n",
       "      <td>-1.221116</td>\n",
       "      <td>-2.346739</td>\n",
       "      <td>2.479709</td>\n",
       "      <td>-0.475751</td>\n",
       "    </tr>\n",
       "    <tr>\n",
       "      <th>91</th>\n",
       "      <td>-0.795963</td>\n",
       "      <td>-0.085507</td>\n",
       "      <td>-0.767917</td>\n",
       "      <td>0.831038</td>\n",
       "      <td>4.199008</td>\n",
       "      <td>-0.633038</td>\n",
       "    </tr>\n",
       "    <tr>\n",
       "      <th>111</th>\n",
       "      <td>-1.542889</td>\n",
       "      <td>-2.376271</td>\n",
       "      <td>-0.512992</td>\n",
       "      <td>1.004946</td>\n",
       "      <td>0.370530</td>\n",
       "      <td>-2.908081</td>\n",
       "    </tr>\n",
       "    <tr>\n",
       "      <th>116</th>\n",
       "      <td>1.759444</td>\n",
       "      <td>0.754989</td>\n",
       "      <td>1.753002</td>\n",
       "      <td>1.147235</td>\n",
       "      <td>0.913803</td>\n",
       "      <td>-3.200185</td>\n",
       "    </tr>\n",
       "    <tr>\n",
       "      <th>141</th>\n",
       "      <td>-0.524819</td>\n",
       "      <td>1.125796</td>\n",
       "      <td>0.095994</td>\n",
       "      <td>1.613625</td>\n",
       "      <td>0.830715</td>\n",
       "      <td>-1.498116</td>\n",
       "    </tr>\n",
       "  </tbody>\n",
       "</table>\n",
       "</div>"
      ],
      "text/plain": [
       "     Log GDP per capita  Social support  Healthy life expectancy at birth  \\\n",
       "0             -1.449950       -2.590515                         -1.603502   \n",
       "22            -2.200287       -3.999583                         -2.679850   \n",
       "47             0.750753       -0.431594                          1.144016   \n",
       "50            -1.639239       -1.305051                         -1.221116   \n",
       "91            -0.795963       -0.085507                         -0.767917   \n",
       "111           -1.542889       -2.376271                         -0.512992   \n",
       "116            1.759444        0.754989                          1.753002   \n",
       "141           -0.524819        1.125796                          0.095994   \n",
       "\n",
       "     Freedom to make life choices  Generosity  Perceptions of corruption  \n",
       "0                       -2.797319   -0.728799                   1.248788  \n",
       "22                      -1.074047    0.511142                   0.889275  \n",
       "47                      -2.710365   -1.808954                   0.788162  \n",
       "50                      -2.346739    2.479709                  -0.475751  \n",
       "91                       0.831038    4.199008                  -0.633038  \n",
       "111                      1.004946    0.370530                  -2.908081  \n",
       "116                      1.147235    0.913803                  -3.200185  \n",
       "141                      1.613625    0.830715                  -1.498116  "
      ]
     },
     "execution_count": 103,
     "metadata": {},
     "output_type": "execute_result"
    }
   ],
   "source": [
    "ss_x = if_x.drop(columns='Outlier')\n",
    "ss = StandardScaler()\n",
    "ss_x = pd.DataFrame(ss.fit_transform(ss_x), columns=ss_x.columns)\n",
    "ss_x.iloc[outlier_indices]"
   ]
  },
  {
   "cell_type": "markdown",
   "id": "7d96e10b",
   "metadata": {},
   "source": [
    "Calculate descriptive statistics for all variables in scrubbed_df"
   ]
  },
  {
   "cell_type": "code",
   "execution_count": 104,
   "id": "b5d9c029",
   "metadata": {},
   "outputs": [
    {
     "data": {
      "text/html": [
       "<div>\n",
       "<style scoped>\n",
       "    .dataframe tbody tr th:only-of-type {\n",
       "        vertical-align: middle;\n",
       "    }\n",
       "\n",
       "    .dataframe tbody tr th {\n",
       "        vertical-align: top;\n",
       "    }\n",
       "\n",
       "    .dataframe thead th {\n",
       "        text-align: right;\n",
       "    }\n",
       "</style>\n",
       "<table border=\"1\" class=\"dataframe\">\n",
       "  <thead>\n",
       "    <tr style=\"text-align: right;\">\n",
       "      <th></th>\n",
       "      <th>Life Ladder</th>\n",
       "      <th>Log GDP per capita</th>\n",
       "      <th>Social support</th>\n",
       "      <th>Healthy life expectancy at birth</th>\n",
       "      <th>Freedom to make life choices</th>\n",
       "      <th>Generosity</th>\n",
       "      <th>Perceptions of corruption</th>\n",
       "    </tr>\n",
       "  </thead>\n",
       "  <tbody>\n",
       "    <tr>\n",
       "      <th>count</th>\n",
       "      <td>147.000000</td>\n",
       "      <td>147.000000</td>\n",
       "      <td>147.000000</td>\n",
       "      <td>147.000000</td>\n",
       "      <td>147.000000</td>\n",
       "      <td>147.000000</td>\n",
       "      <td>147.000000</td>\n",
       "    </tr>\n",
       "    <tr>\n",
       "      <th>mean</th>\n",
       "      <td>5.460408</td>\n",
       "      <td>9.397512</td>\n",
       "      <td>0.805377</td>\n",
       "      <td>64.122197</td>\n",
       "      <td>0.780871</td>\n",
       "      <td>-0.006973</td>\n",
       "      <td>0.731693</td>\n",
       "    </tr>\n",
       "    <tr>\n",
       "      <th>std</th>\n",
       "      <td>1.140804</td>\n",
       "      <td>1.176817</td>\n",
       "      <td>0.121772</td>\n",
       "      <td>7.085058</td>\n",
       "      <td>0.126936</td>\n",
       "      <td>0.156994</td>\n",
       "      <td>0.178627</td>\n",
       "    </tr>\n",
       "    <tr>\n",
       "      <th>min</th>\n",
       "      <td>2.662000</td>\n",
       "      <td>6.817000</td>\n",
       "      <td>0.320000</td>\n",
       "      <td>45.200000</td>\n",
       "      <td>0.427000</td>\n",
       "      <td>-0.290000</td>\n",
       "      <td>0.162000</td>\n",
       "    </tr>\n",
       "    <tr>\n",
       "      <th>25%</th>\n",
       "      <td>4.619500</td>\n",
       "      <td>8.501000</td>\n",
       "      <td>0.733500</td>\n",
       "      <td>58.700000</td>\n",
       "      <td>0.713500</td>\n",
       "      <td>-0.135000</td>\n",
       "      <td>0.681500</td>\n",
       "    </tr>\n",
       "    <tr>\n",
       "      <th>50%</th>\n",
       "      <td>5.553000</td>\n",
       "      <td>9.491000</td>\n",
       "      <td>0.829000</td>\n",
       "      <td>65.800000</td>\n",
       "      <td>0.813000</td>\n",
       "      <td>-0.030000</td>\n",
       "      <td>0.781600</td>\n",
       "    </tr>\n",
       "    <tr>\n",
       "      <th>75%</th>\n",
       "      <td>6.251500</td>\n",
       "      <td>10.373000</td>\n",
       "      <td>0.905000</td>\n",
       "      <td>68.900000</td>\n",
       "      <td>0.884000</td>\n",
       "      <td>0.093000</td>\n",
       "      <td>0.851000</td>\n",
       "    </tr>\n",
       "    <tr>\n",
       "      <th>max</th>\n",
       "      <td>7.788000</td>\n",
       "      <td>11.634000</td>\n",
       "      <td>0.967000</td>\n",
       "      <td>76.500000</td>\n",
       "      <td>0.985000</td>\n",
       "      <td>0.650000</td>\n",
       "      <td>0.954000</td>\n",
       "    </tr>\n",
       "  </tbody>\n",
       "</table>\n",
       "</div>"
      ],
      "text/plain": [
       "       Life Ladder  Log GDP per capita  Social support  \\\n",
       "count   147.000000          147.000000      147.000000   \n",
       "mean      5.460408            9.397512        0.805377   \n",
       "std       1.140804            1.176817        0.121772   \n",
       "min       2.662000            6.817000        0.320000   \n",
       "25%       4.619500            8.501000        0.733500   \n",
       "50%       5.553000            9.491000        0.829000   \n",
       "75%       6.251500           10.373000        0.905000   \n",
       "max       7.788000           11.634000        0.967000   \n",
       "\n",
       "       Healthy life expectancy at birth  Freedom to make life choices  \\\n",
       "count                        147.000000                    147.000000   \n",
       "mean                          64.122197                      0.780871   \n",
       "std                            7.085058                      0.126936   \n",
       "min                           45.200000                      0.427000   \n",
       "25%                           58.700000                      0.713500   \n",
       "50%                           65.800000                      0.813000   \n",
       "75%                           68.900000                      0.884000   \n",
       "max                           76.500000                      0.985000   \n",
       "\n",
       "       Generosity  Perceptions of corruption  \n",
       "count  147.000000                 147.000000  \n",
       "mean    -0.006973                   0.731693  \n",
       "std      0.156994                   0.178627  \n",
       "min     -0.290000                   0.162000  \n",
       "25%     -0.135000                   0.681500  \n",
       "50%     -0.030000                   0.781600  \n",
       "75%      0.093000                   0.851000  \n",
       "max      0.650000                   0.954000  "
      ]
     },
     "execution_count": 104,
     "metadata": {},
     "output_type": "execute_result"
    }
   ],
   "source": [
    "scrubbed_df.describe()"
   ]
  },
  {
   "cell_type": "markdown",
   "id": "c410eabb",
   "metadata": {},
   "source": [
    "Plot distributions of all variables"
   ]
  },
  {
   "cell_type": "code",
   "execution_count": 110,
   "id": "fa2ff17f",
   "metadata": {},
   "outputs": [
    {
     "name": "stderr",
     "output_type": "stream",
     "text": [
      "/Library/Frameworks/Python.framework/Versions/3.9/lib/python3.9/site-packages/seaborn/distributions.py:2557: FutureWarning: `distplot` is a deprecated function and will be removed in a future version. Please adapt your code to use either `displot` (a figure-level function with similar flexibility) or `histplot` (an axes-level function for histograms).\n",
      "  warnings.warn(msg, FutureWarning)\n",
      "/Library/Frameworks/Python.framework/Versions/3.9/lib/python3.9/site-packages/seaborn/distributions.py:2557: FutureWarning: `distplot` is a deprecated function and will be removed in a future version. Please adapt your code to use either `displot` (a figure-level function with similar flexibility) or `histplot` (an axes-level function for histograms).\n",
      "  warnings.warn(msg, FutureWarning)\n",
      "/Library/Frameworks/Python.framework/Versions/3.9/lib/python3.9/site-packages/seaborn/distributions.py:2557: FutureWarning: `distplot` is a deprecated function and will be removed in a future version. Please adapt your code to use either `displot` (a figure-level function with similar flexibility) or `histplot` (an axes-level function for histograms).\n",
      "  warnings.warn(msg, FutureWarning)\n",
      "/Library/Frameworks/Python.framework/Versions/3.9/lib/python3.9/site-packages/seaborn/distributions.py:2557: FutureWarning: `distplot` is a deprecated function and will be removed in a future version. Please adapt your code to use either `displot` (a figure-level function with similar flexibility) or `histplot` (an axes-level function for histograms).\n",
      "  warnings.warn(msg, FutureWarning)\n",
      "/Library/Frameworks/Python.framework/Versions/3.9/lib/python3.9/site-packages/seaborn/distributions.py:2557: FutureWarning: `distplot` is a deprecated function and will be removed in a future version. Please adapt your code to use either `displot` (a figure-level function with similar flexibility) or `histplot` (an axes-level function for histograms).\n",
      "  warnings.warn(msg, FutureWarning)\n",
      "/Library/Frameworks/Python.framework/Versions/3.9/lib/python3.9/site-packages/seaborn/distributions.py:2557: FutureWarning: `distplot` is a deprecated function and will be removed in a future version. Please adapt your code to use either `displot` (a figure-level function with similar flexibility) or `histplot` (an axes-level function for histograms).\n",
      "  warnings.warn(msg, FutureWarning)\n",
      "/Library/Frameworks/Python.framework/Versions/3.9/lib/python3.9/site-packages/seaborn/distributions.py:2557: FutureWarning: `distplot` is a deprecated function and will be removed in a future version. Please adapt your code to use either `displot` (a figure-level function with similar flexibility) or `histplot` (an axes-level function for histograms).\n",
      "  warnings.warn(msg, FutureWarning)\n"
     ]
    },
    {
     "data": {
      "image/png": "[encoded data removed]",
      "text/plain": [
       "<Figure size 432x288 with 1 Axes>"
      ]
     },
     "metadata": {
      "needs_background": "light"
     },
     "output_type": "display_data"
    },
    {
     "data": {
      "image/png": "[encoded data removed]",
      "text/plain": [
       "<Figure size 432x288 with 1 Axes>"
      ]
     },
     "metadata": {
      "needs_background": "light"
     },
     "output_type": "display_data"
    },
    {
     "data": {
      "image/png": "[encoded data removed]",
      "text/plain": [
       "<Figure size 432x288 with 1 Axes>"
      ]
     },
     "metadata": {
      "needs_background": "light"
     },
     "output_type": "display_data"
    },
    {
     "data": {
      "image/png": "[encoded data removed]",
      "text/plain": [
       "<Figure size 432x288 with 1 Axes>"
      ]
     },
     "metadata": {
      "needs_background": "light"
     },
     "output_type": "display_data"
    },
    {
     "data": {
      "image/png": "[encoded data removed]",
      "text/plain": [
       "<Figure size 432x288 with 1 Axes>"
      ]
     },
     "metadata": {
      "needs_background": "light"
     },
     "output_type": "display_data"
    },
    {
     "data": {
      "image/png": "[encoded data removed]",
      "text/plain": [
       "<Figure size 432x288 with 1 Axes>"
      ]
     },
     "metadata": {
      "needs_background": "light"
     },
     "output_type": "display_data"
    },
    {
     "data": {
      "image/png": "[encoded data removed]",
      "text/plain": [
       "<Figure size 432x288 with 1 Axes>"
      ]
     },
     "metadata": {
      "needs_background": "light"
     },
     "output_type": "display_data"
    }
   ],
   "source": [
    "for var in scrubbed_df.columns:\n",
    "    fig, ax = plt.subplots()\n",
    "    sns.distplot(scrubbed_df[var], kde=True, bins=25, ax=ax)\n",
    "    ax.set_title(f'{var} Distribution Plot')"
   ]
  },
  {
   "cell_type": "markdown",
   "id": "8018fc7e",
   "metadata": {},
   "source": [
    "Create pairplots to represent relationships between each x variable and the dependent variable"
   ]
  },
  {
   "cell_type": "code",
   "execution_count": 114,
   "id": "124d1b37",
   "metadata": {},
   "outputs": [
    {
     "data": {
      "text/plain": [
       "<seaborn.axisgrid.PairGrid at 0x7fe75569da90>"
      ]
     },
     "execution_count": 114,
     "metadata": {},
     "output_type": "execute_result"
    },
    {
     "data": {
      "image/png": "[encoded data removed]",
      "text/plain": [
       "<Figure size 1080x180 with 6 Axes>"
      ]
     },
     "metadata": {
      "needs_background": "light"
     },
     "output_type": "display_data"
    }
   ],
   "source": [
    "sns.pairplot(scrubbed_df, x_vars = x.columns, y_vars=['Life Ladder'], kind='reg')"
   ]
  },
  {
   "cell_type": "markdown",
   "id": "c1111505",
   "metadata": {},
   "source": [
    "# Model Data"
   ]
  },
  {
   "cell_type": "code",
   "execution_count": null,
   "id": "9af42f98",
   "metadata": {},
   "outputs": [],
   "source": []
  }
 ],
 "metadata": {
  "kernelspec": {
   "display_name": "Python 3",
   "language": "python",
   "name": "python3"
  },
  "language_info": {
   "codemirror_mode": {
    "name": "ipython",
    "version": 3
   },
   "file_extension": ".py",
   "mimetype": "text/x-python",
   "name": "python",
   "nbconvert_exporter": "python",
   "pygments_lexer": "ipython3",
   "version": "3.9.5"
  }
 },
 "nbformat": 4,
 "nbformat_minor": 5
}
