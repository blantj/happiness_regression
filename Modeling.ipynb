{
 "cells": [
  {
   "cell_type": "markdown",
   "id": "63dd2fcd",
   "metadata": {},
   "source": [
    "# Import Libraries"
   ]
  },
  {
   "cell_type": "code",
   "execution_count": 86,
   "id": "bfbe8099",
   "metadata": {},
   "outputs": [],
   "source": [
    "import pandas as pd\n",
    "from sklearn.impute import KNNImputer\n",
    "from sklearn.ensemble import IsolationForest\n",
    "from sklearn.preprocessing import StandardScaler\n",
    "import matplotlib.pyplot as plt\n",
    "import seaborn as sns\n",
    "from sklearn.model_selection import train_test_split, GridSearchCV\n",
    "from sklearn.dummy import DummyRegressor\n",
    "import numpy as np\n",
    "from sklearn.metrics import mean_absolute_error, mean_squared_error\n",
    "from sklearn.linear_model import LinearRegression, ElasticNet, Ridge, Lasso"
   ]
  },
  {
   "cell_type": "markdown",
   "id": "f4698be5",
   "metadata": {},
   "source": [
    "# Obtain Data"
   ]
  },
  {
   "cell_type": "markdown",
   "id": "683a8265",
   "metadata": {},
   "source": [
    "Read csv with happiness data into Pandas"
   ]
  },
  {
   "cell_type": "code",
   "execution_count": 21,
   "id": "895d8807",
   "metadata": {},
   "outputs": [
    {
     "data": {
      "text/html": [
       "<div>\n",
       "<style scoped>\n",
       "    .dataframe tbody tr th:only-of-type {\n",
       "        vertical-align: middle;\n",
       "    }\n",
       "\n",
       "    .dataframe tbody tr th {\n",
       "        vertical-align: top;\n",
       "    }\n",
       "\n",
       "    .dataframe thead th {\n",
       "        text-align: right;\n",
       "    }\n",
       "</style>\n",
       "<table border=\"1\" class=\"dataframe\">\n",
       "  <thead>\n",
       "    <tr style=\"text-align: right;\">\n",
       "      <th></th>\n",
       "      <th>Country name</th>\n",
       "      <th>year</th>\n",
       "      <th>Life Ladder</th>\n",
       "      <th>Log GDP per capita</th>\n",
       "      <th>Social support</th>\n",
       "      <th>Healthy life expectancy at birth</th>\n",
       "      <th>Freedom to make life choices</th>\n",
       "      <th>Generosity</th>\n",
       "      <th>Perceptions of corruption</th>\n",
       "      <th>Positive affect</th>\n",
       "      <th>Negative affect</th>\n",
       "    </tr>\n",
       "  </thead>\n",
       "  <tbody>\n",
       "    <tr>\n",
       "      <th>0</th>\n",
       "      <td>Afghanistan</td>\n",
       "      <td>2008</td>\n",
       "      <td>3.724</td>\n",
       "      <td>7.370</td>\n",
       "      <td>0.451</td>\n",
       "      <td>50.80</td>\n",
       "      <td>0.718</td>\n",
       "      <td>0.168</td>\n",
       "      <td>0.882</td>\n",
       "      <td>0.518</td>\n",
       "      <td>0.258</td>\n",
       "    </tr>\n",
       "    <tr>\n",
       "      <th>1</th>\n",
       "      <td>Afghanistan</td>\n",
       "      <td>2009</td>\n",
       "      <td>4.402</td>\n",
       "      <td>7.540</td>\n",
       "      <td>0.552</td>\n",
       "      <td>51.20</td>\n",
       "      <td>0.679</td>\n",
       "      <td>0.190</td>\n",
       "      <td>0.850</td>\n",
       "      <td>0.584</td>\n",
       "      <td>0.237</td>\n",
       "    </tr>\n",
       "    <tr>\n",
       "      <th>2</th>\n",
       "      <td>Afghanistan</td>\n",
       "      <td>2010</td>\n",
       "      <td>4.758</td>\n",
       "      <td>7.647</td>\n",
       "      <td>0.539</td>\n",
       "      <td>51.60</td>\n",
       "      <td>0.600</td>\n",
       "      <td>0.121</td>\n",
       "      <td>0.707</td>\n",
       "      <td>0.618</td>\n",
       "      <td>0.275</td>\n",
       "    </tr>\n",
       "    <tr>\n",
       "      <th>3</th>\n",
       "      <td>Afghanistan</td>\n",
       "      <td>2011</td>\n",
       "      <td>3.832</td>\n",
       "      <td>7.620</td>\n",
       "      <td>0.521</td>\n",
       "      <td>51.92</td>\n",
       "      <td>0.496</td>\n",
       "      <td>0.162</td>\n",
       "      <td>0.731</td>\n",
       "      <td>0.611</td>\n",
       "      <td>0.267</td>\n",
       "    </tr>\n",
       "    <tr>\n",
       "      <th>4</th>\n",
       "      <td>Afghanistan</td>\n",
       "      <td>2012</td>\n",
       "      <td>3.783</td>\n",
       "      <td>7.705</td>\n",
       "      <td>0.521</td>\n",
       "      <td>52.24</td>\n",
       "      <td>0.531</td>\n",
       "      <td>0.236</td>\n",
       "      <td>0.776</td>\n",
       "      <td>0.710</td>\n",
       "      <td>0.268</td>\n",
       "    </tr>\n",
       "  </tbody>\n",
       "</table>\n",
       "</div>"
      ],
      "text/plain": [
       "  Country name  year  Life Ladder  Log GDP per capita  Social support  \\\n",
       "0  Afghanistan  2008        3.724               7.370           0.451   \n",
       "1  Afghanistan  2009        4.402               7.540           0.552   \n",
       "2  Afghanistan  2010        4.758               7.647           0.539   \n",
       "3  Afghanistan  2011        3.832               7.620           0.521   \n",
       "4  Afghanistan  2012        3.783               7.705           0.521   \n",
       "\n",
       "   Healthy life expectancy at birth  Freedom to make life choices  Generosity  \\\n",
       "0                             50.80                         0.718       0.168   \n",
       "1                             51.20                         0.679       0.190   \n",
       "2                             51.60                         0.600       0.121   \n",
       "3                             51.92                         0.496       0.162   \n",
       "4                             52.24                         0.531       0.236   \n",
       "\n",
       "   Perceptions of corruption  Positive affect  Negative affect  \n",
       "0                      0.882            0.518            0.258  \n",
       "1                      0.850            0.584            0.237  \n",
       "2                      0.707            0.618            0.275  \n",
       "3                      0.731            0.611            0.267  \n",
       "4                      0.776            0.710            0.268  "
      ]
     },
     "execution_count": 21,
     "metadata": {},
     "output_type": "execute_result"
    }
   ],
   "source": [
    "df = pd.read_csv('Data/world-happiness-report.csv')\n",
    "df.head()"
   ]
  },
  {
   "cell_type": "markdown",
   "id": "36a86847",
   "metadata": {},
   "source": [
    "# Scrub Data"
   ]
  },
  {
   "cell_type": "markdown",
   "id": "7c496beb",
   "metadata": {},
   "source": [
    "Calculate number of datapoints by year in order to determine which year to use for modeling"
   ]
  },
  {
   "cell_type": "code",
   "execution_count": 22,
   "id": "8d5663ee",
   "metadata": {},
   "outputs": [
    {
     "data": {
      "text/plain": [
       "year\n",
       "2005     27\n",
       "2006     89\n",
       "2007    102\n",
       "2008    110\n",
       "2009    114\n",
       "2010    124\n",
       "2011    146\n",
       "2012    142\n",
       "2013    137\n",
       "2014    145\n",
       "2015    143\n",
       "2016    142\n",
       "2017    147\n",
       "2018    142\n",
       "2019    144\n",
       "2020     95\n",
       "Name: Country name, dtype: int64"
      ]
     },
     "execution_count": 22,
     "metadata": {},
     "output_type": "execute_result"
    }
   ],
   "source": [
    "df.groupby('year').count()['Country name']"
   ]
  },
  {
   "cell_type": "markdown",
   "id": "63d19e7d",
   "metadata": {},
   "source": [
    "Use data for 2017 in modeling and drop data for all other years from the df"
   ]
  },
  {
   "cell_type": "code",
   "execution_count": 23,
   "id": "cc2c646e",
   "metadata": {},
   "outputs": [
    {
     "data": {
      "text/html": [
       "<div>\n",
       "<style scoped>\n",
       "    .dataframe tbody tr th:only-of-type {\n",
       "        vertical-align: middle;\n",
       "    }\n",
       "\n",
       "    .dataframe tbody tr th {\n",
       "        vertical-align: top;\n",
       "    }\n",
       "\n",
       "    .dataframe thead th {\n",
       "        text-align: right;\n",
       "    }\n",
       "</style>\n",
       "<table border=\"1\" class=\"dataframe\">\n",
       "  <thead>\n",
       "    <tr style=\"text-align: right;\">\n",
       "      <th></th>\n",
       "      <th>Country name</th>\n",
       "      <th>Life Ladder</th>\n",
       "      <th>Log GDP per capita</th>\n",
       "      <th>Social support</th>\n",
       "      <th>Healthy life expectancy at birth</th>\n",
       "      <th>Freedom to make life choices</th>\n",
       "      <th>Generosity</th>\n",
       "      <th>Perceptions of corruption</th>\n",
       "      <th>Positive affect</th>\n",
       "      <th>Negative affect</th>\n",
       "    </tr>\n",
       "  </thead>\n",
       "  <tbody>\n",
       "    <tr>\n",
       "      <th>0</th>\n",
       "      <td>Afghanistan</td>\n",
       "      <td>2.662</td>\n",
       "      <td>7.697</td>\n",
       "      <td>0.491</td>\n",
       "      <td>52.8</td>\n",
       "      <td>0.427</td>\n",
       "      <td>-0.121</td>\n",
       "      <td>0.954</td>\n",
       "      <td>0.496</td>\n",
       "      <td>0.371</td>\n",
       "    </tr>\n",
       "    <tr>\n",
       "      <th>1</th>\n",
       "      <td>Albania</td>\n",
       "      <td>4.640</td>\n",
       "      <td>9.476</td>\n",
       "      <td>0.638</td>\n",
       "      <td>68.4</td>\n",
       "      <td>0.750</td>\n",
       "      <td>-0.029</td>\n",
       "      <td>0.876</td>\n",
       "      <td>0.669</td>\n",
       "      <td>0.334</td>\n",
       "    </tr>\n",
       "    <tr>\n",
       "      <th>2</th>\n",
       "      <td>Algeria</td>\n",
       "      <td>5.249</td>\n",
       "      <td>9.354</td>\n",
       "      <td>0.807</td>\n",
       "      <td>65.7</td>\n",
       "      <td>0.437</td>\n",
       "      <td>-0.167</td>\n",
       "      <td>0.700</td>\n",
       "      <td>0.642</td>\n",
       "      <td>0.289</td>\n",
       "    </tr>\n",
       "    <tr>\n",
       "      <th>3</th>\n",
       "      <td>Argentina</td>\n",
       "      <td>6.039</td>\n",
       "      <td>10.067</td>\n",
       "      <td>0.907</td>\n",
       "      <td>68.6</td>\n",
       "      <td>0.832</td>\n",
       "      <td>-0.186</td>\n",
       "      <td>0.841</td>\n",
       "      <td>0.809</td>\n",
       "      <td>0.292</td>\n",
       "    </tr>\n",
       "    <tr>\n",
       "      <th>4</th>\n",
       "      <td>Armenia</td>\n",
       "      <td>4.288</td>\n",
       "      <td>9.402</td>\n",
       "      <td>0.698</td>\n",
       "      <td>66.6</td>\n",
       "      <td>0.614</td>\n",
       "      <td>-0.147</td>\n",
       "      <td>0.865</td>\n",
       "      <td>0.625</td>\n",
       "      <td>0.437</td>\n",
       "    </tr>\n",
       "  </tbody>\n",
       "</table>\n",
       "</div>"
      ],
      "text/plain": [
       "  Country name  Life Ladder  Log GDP per capita  Social support  \\\n",
       "0  Afghanistan        2.662               7.697           0.491   \n",
       "1      Albania        4.640               9.476           0.638   \n",
       "2      Algeria        5.249               9.354           0.807   \n",
       "3    Argentina        6.039              10.067           0.907   \n",
       "4      Armenia        4.288               9.402           0.698   \n",
       "\n",
       "   Healthy life expectancy at birth  Freedom to make life choices  Generosity  \\\n",
       "0                              52.8                         0.427      -0.121   \n",
       "1                              68.4                         0.750      -0.029   \n",
       "2                              65.7                         0.437      -0.167   \n",
       "3                              68.6                         0.832      -0.186   \n",
       "4                              66.6                         0.614      -0.147   \n",
       "\n",
       "   Perceptions of corruption  Positive affect  Negative affect  \n",
       "0                      0.954            0.496            0.371  \n",
       "1                      0.876            0.669            0.334  \n",
       "2                      0.700            0.642            0.289  \n",
       "3                      0.841            0.809            0.292  \n",
       "4                      0.865            0.625            0.437  "
      ]
     },
     "execution_count": 23,
     "metadata": {},
     "output_type": "execute_result"
    }
   ],
   "source": [
    "df = df[df['year']==2017]\n",
    "df.reset_index(drop=True, inplace=True)\n",
    "df.drop(columns='year', inplace=True)\n",
    "df.head()"
   ]
  },
  {
   "cell_type": "markdown",
   "id": "0b0f3c29",
   "metadata": {},
   "source": [
    "use df.info() to determine what scrubbing needed"
   ]
  },
  {
   "cell_type": "code",
   "execution_count": 24,
   "id": "3f579a08",
   "metadata": {},
   "outputs": [
    {
     "name": "stdout",
     "output_type": "stream",
     "text": [
      "<class 'pandas.core.frame.DataFrame'>\n",
      "RangeIndex: 147 entries, 0 to 146\n",
      "Data columns (total 10 columns):\n",
      " #   Column                            Non-Null Count  Dtype  \n",
      "---  ------                            --------------  -----  \n",
      " 0   Country name                      147 non-null    object \n",
      " 1   Life Ladder                       147 non-null    float64\n",
      " 2   Log GDP per capita                146 non-null    float64\n",
      " 3   Social support                    146 non-null    float64\n",
      " 4   Healthy life expectancy at birth  143 non-null    float64\n",
      " 5   Freedom to make life choices      146 non-null    float64\n",
      " 6   Generosity                        145 non-null    float64\n",
      " 7   Perceptions of corruption         137 non-null    float64\n",
      " 8   Positive affect                   146 non-null    float64\n",
      " 9   Negative affect                   146 non-null    float64\n",
      "dtypes: float64(9), object(1)\n",
      "memory usage: 11.6+ KB\n"
     ]
    }
   ],
   "source": [
    "df.info()"
   ]
  },
  {
   "cell_type": "markdown",
   "id": "324506ae",
   "metadata": {},
   "source": [
    "Drop object variables and other variables not useful for modeling"
   ]
  },
  {
   "cell_type": "code",
   "execution_count": 25,
   "id": "8a5189d5",
   "metadata": {},
   "outputs": [
    {
     "data": {
      "text/html": [
       "<div>\n",
       "<style scoped>\n",
       "    .dataframe tbody tr th:only-of-type {\n",
       "        vertical-align: middle;\n",
       "    }\n",
       "\n",
       "    .dataframe tbody tr th {\n",
       "        vertical-align: top;\n",
       "    }\n",
       "\n",
       "    .dataframe thead th {\n",
       "        text-align: right;\n",
       "    }\n",
       "</style>\n",
       "<table border=\"1\" class=\"dataframe\">\n",
       "  <thead>\n",
       "    <tr style=\"text-align: right;\">\n",
       "      <th></th>\n",
       "      <th>Life Ladder</th>\n",
       "      <th>Log GDP per capita</th>\n",
       "      <th>Social support</th>\n",
       "      <th>Healthy life expectancy at birth</th>\n",
       "      <th>Freedom to make life choices</th>\n",
       "      <th>Generosity</th>\n",
       "      <th>Perceptions of corruption</th>\n",
       "    </tr>\n",
       "  </thead>\n",
       "  <tbody>\n",
       "    <tr>\n",
       "      <th>0</th>\n",
       "      <td>2.662</td>\n",
       "      <td>7.697</td>\n",
       "      <td>0.491</td>\n",
       "      <td>52.8</td>\n",
       "      <td>0.427</td>\n",
       "      <td>-0.121</td>\n",
       "      <td>0.954</td>\n",
       "    </tr>\n",
       "    <tr>\n",
       "      <th>1</th>\n",
       "      <td>4.640</td>\n",
       "      <td>9.476</td>\n",
       "      <td>0.638</td>\n",
       "      <td>68.4</td>\n",
       "      <td>0.750</td>\n",
       "      <td>-0.029</td>\n",
       "      <td>0.876</td>\n",
       "    </tr>\n",
       "    <tr>\n",
       "      <th>2</th>\n",
       "      <td>5.249</td>\n",
       "      <td>9.354</td>\n",
       "      <td>0.807</td>\n",
       "      <td>65.7</td>\n",
       "      <td>0.437</td>\n",
       "      <td>-0.167</td>\n",
       "      <td>0.700</td>\n",
       "    </tr>\n",
       "    <tr>\n",
       "      <th>3</th>\n",
       "      <td>6.039</td>\n",
       "      <td>10.067</td>\n",
       "      <td>0.907</td>\n",
       "      <td>68.6</td>\n",
       "      <td>0.832</td>\n",
       "      <td>-0.186</td>\n",
       "      <td>0.841</td>\n",
       "    </tr>\n",
       "    <tr>\n",
       "      <th>4</th>\n",
       "      <td>4.288</td>\n",
       "      <td>9.402</td>\n",
       "      <td>0.698</td>\n",
       "      <td>66.6</td>\n",
       "      <td>0.614</td>\n",
       "      <td>-0.147</td>\n",
       "      <td>0.865</td>\n",
       "    </tr>\n",
       "  </tbody>\n",
       "</table>\n",
       "</div>"
      ],
      "text/plain": [
       "   Life Ladder  Log GDP per capita  Social support  \\\n",
       "0        2.662               7.697           0.491   \n",
       "1        4.640               9.476           0.638   \n",
       "2        5.249               9.354           0.807   \n",
       "3        6.039              10.067           0.907   \n",
       "4        4.288               9.402           0.698   \n",
       "\n",
       "   Healthy life expectancy at birth  Freedom to make life choices  Generosity  \\\n",
       "0                              52.8                         0.427      -0.121   \n",
       "1                              68.4                         0.750      -0.029   \n",
       "2                              65.7                         0.437      -0.167   \n",
       "3                              68.6                         0.832      -0.186   \n",
       "4                              66.6                         0.614      -0.147   \n",
       "\n",
       "   Perceptions of corruption  \n",
       "0                      0.954  \n",
       "1                      0.876  \n",
       "2                      0.700  \n",
       "3                      0.841  \n",
       "4                      0.865  "
      ]
     },
     "execution_count": 25,
     "metadata": {},
     "output_type": "execute_result"
    }
   ],
   "source": [
    "df.drop(columns=['Country name', 'Positive affect', 'Negative affect'], inplace=True)\n",
    "df.head()"
   ]
  },
  {
   "cell_type": "markdown",
   "id": "bc9baaa5",
   "metadata": {},
   "source": [
    "Replace missing values with knn imputer"
   ]
  },
  {
   "cell_type": "code",
   "execution_count": 26,
   "id": "b57c60ab",
   "metadata": {},
   "outputs": [
    {
     "data": {
      "text/html": [
       "<div>\n",
       "<style scoped>\n",
       "    .dataframe tbody tr th:only-of-type {\n",
       "        vertical-align: middle;\n",
       "    }\n",
       "\n",
       "    .dataframe tbody tr th {\n",
       "        vertical-align: top;\n",
       "    }\n",
       "\n",
       "    .dataframe thead th {\n",
       "        text-align: right;\n",
       "    }\n",
       "</style>\n",
       "<table border=\"1\" class=\"dataframe\">\n",
       "  <thead>\n",
       "    <tr style=\"text-align: right;\">\n",
       "      <th></th>\n",
       "      <th>Life Ladder</th>\n",
       "      <th>Log GDP per capita</th>\n",
       "      <th>Social support</th>\n",
       "      <th>Healthy life expectancy at birth</th>\n",
       "      <th>Freedom to make life choices</th>\n",
       "      <th>Generosity</th>\n",
       "      <th>Perceptions of corruption</th>\n",
       "    </tr>\n",
       "  </thead>\n",
       "  <tbody>\n",
       "    <tr>\n",
       "      <th>0</th>\n",
       "      <td>2.662</td>\n",
       "      <td>-1.444622</td>\n",
       "      <td>-2.580470</td>\n",
       "      <td>-1.598862</td>\n",
       "      <td>-2.786590</td>\n",
       "      <td>-0.726741</td>\n",
       "      <td>1.231530</td>\n",
       "    </tr>\n",
       "    <tr>\n",
       "      <th>1</th>\n",
       "      <td>4.640</td>\n",
       "      <td>0.067102</td>\n",
       "      <td>-1.372969</td>\n",
       "      <td>0.610327</td>\n",
       "      <td>-0.241167</td>\n",
       "      <td>-0.142475</td>\n",
       "      <td>0.805470</td>\n",
       "    </tr>\n",
       "    <tr>\n",
       "      <th>2</th>\n",
       "      <td>5.249</td>\n",
       "      <td>-0.036569</td>\n",
       "      <td>0.015247</td>\n",
       "      <td>0.227967</td>\n",
       "      <td>-2.707784</td>\n",
       "      <td>-1.018874</td>\n",
       "      <td>-0.155895</td>\n",
       "    </tr>\n",
       "    <tr>\n",
       "      <th>3</th>\n",
       "      <td>6.039</td>\n",
       "      <td>0.569310</td>\n",
       "      <td>0.836677</td>\n",
       "      <td>0.638649</td>\n",
       "      <td>0.405040</td>\n",
       "      <td>-1.139538</td>\n",
       "      <td>0.614290</td>\n",
       "    </tr>\n",
       "    <tr>\n",
       "      <th>4</th>\n",
       "      <td>4.288</td>\n",
       "      <td>0.004220</td>\n",
       "      <td>-0.880111</td>\n",
       "      <td>0.355420</td>\n",
       "      <td>-1.312924</td>\n",
       "      <td>-0.891860</td>\n",
       "      <td>0.745385</td>\n",
       "    </tr>\n",
       "  </tbody>\n",
       "</table>\n",
       "</div>"
      ],
      "text/plain": [
       "   Life Ladder  Log GDP per capita  Social support  \\\n",
       "0        2.662           -1.444622       -2.580470   \n",
       "1        4.640            0.067102       -1.372969   \n",
       "2        5.249           -0.036569        0.015247   \n",
       "3        6.039            0.569310        0.836677   \n",
       "4        4.288            0.004220       -0.880111   \n",
       "\n",
       "   Healthy life expectancy at birth  Freedom to make life choices  Generosity  \\\n",
       "0                         -1.598862                     -2.786590   -0.726741   \n",
       "1                          0.610327                     -0.241167   -0.142475   \n",
       "2                          0.227967                     -2.707784   -1.018874   \n",
       "3                          0.638649                      0.405040   -1.139538   \n",
       "4                          0.355420                     -1.312924   -0.891860   \n",
       "\n",
       "   Perceptions of corruption  \n",
       "0                   1.231530  \n",
       "1                   0.805470  \n",
       "2                  -0.155895  \n",
       "3                   0.614290  \n",
       "4                   0.745385  "
      ]
     },
     "execution_count": 26,
     "metadata": {},
     "output_type": "execute_result"
    }
   ],
   "source": [
    "knn_x = df.drop(columns='Life Ladder')\n",
    "knn_ss = StandardScaler()\n",
    "ss_knn_x = pd.DataFrame(knn_ss.fit_transform(knn_x), columns=knn_x.columns)\n",
    "knn_imputer = KNNImputer()\n",
    "imputed_x = pd.DataFrame(knn_imputer.fit_transform(ss_knn_x), columns=ss_knn_x.columns)\n",
    "scrubbed_df = pd.concat([df[['Life Ladder']], imputed_x], axis=1)\n",
    "scrubbed_df.head()"
   ]
  },
  {
   "cell_type": "markdown",
   "id": "a79a2fb3",
   "metadata": {},
   "source": [
    "Confirm data is now scrubbed with scrubbed_df.info()"
   ]
  },
  {
   "cell_type": "code",
   "execution_count": 27,
   "id": "7b58689a",
   "metadata": {},
   "outputs": [
    {
     "name": "stdout",
     "output_type": "stream",
     "text": [
      "<class 'pandas.core.frame.DataFrame'>\n",
      "RangeIndex: 147 entries, 0 to 146\n",
      "Data columns (total 7 columns):\n",
      " #   Column                            Non-Null Count  Dtype  \n",
      "---  ------                            --------------  -----  \n",
      " 0   Life Ladder                       147 non-null    float64\n",
      " 1   Log GDP per capita                147 non-null    float64\n",
      " 2   Social support                    147 non-null    float64\n",
      " 3   Healthy life expectancy at birth  147 non-null    float64\n",
      " 4   Freedom to make life choices      147 non-null    float64\n",
      " 5   Generosity                        147 non-null    float64\n",
      " 6   Perceptions of corruption         147 non-null    float64\n",
      "dtypes: float64(7)\n",
      "memory usage: 8.2 KB\n"
     ]
    }
   ],
   "source": [
    "scrubbed_df.info()"
   ]
  },
  {
   "cell_type": "markdown",
   "id": "2ded2b29",
   "metadata": {},
   "source": [
    "# Explore Data"
   ]
  },
  {
   "cell_type": "markdown",
   "id": "961d6571",
   "metadata": {},
   "source": [
    "Use isolation forest to identify greatest 5% outliers"
   ]
  },
  {
   "cell_type": "code",
   "execution_count": 28,
   "id": "5b70c935",
   "metadata": {},
   "outputs": [
    {
     "data": {
      "text/html": [
       "<div>\n",
       "<style scoped>\n",
       "    .dataframe tbody tr th:only-of-type {\n",
       "        vertical-align: middle;\n",
       "    }\n",
       "\n",
       "    .dataframe tbody tr th {\n",
       "        vertical-align: top;\n",
       "    }\n",
       "\n",
       "    .dataframe thead th {\n",
       "        text-align: right;\n",
       "    }\n",
       "</style>\n",
       "<table border=\"1\" class=\"dataframe\">\n",
       "  <thead>\n",
       "    <tr style=\"text-align: right;\">\n",
       "      <th></th>\n",
       "      <th>Log GDP per capita</th>\n",
       "      <th>Social support</th>\n",
       "      <th>Healthy life expectancy at birth</th>\n",
       "      <th>Freedom to make life choices</th>\n",
       "      <th>Generosity</th>\n",
       "      <th>Perceptions of corruption</th>\n",
       "      <th>Outlier</th>\n",
       "    </tr>\n",
       "  </thead>\n",
       "  <tbody>\n",
       "    <tr>\n",
       "      <th>0</th>\n",
       "      <td>-1.444622</td>\n",
       "      <td>-2.580470</td>\n",
       "      <td>-1.598862</td>\n",
       "      <td>-2.786590</td>\n",
       "      <td>-0.726741</td>\n",
       "      <td>1.231530</td>\n",
       "      <td>-1</td>\n",
       "    </tr>\n",
       "    <tr>\n",
       "      <th>22</th>\n",
       "      <td>-2.192411</td>\n",
       "      <td>-3.985114</td>\n",
       "      <td>-2.675134</td>\n",
       "      <td>-1.068626</td>\n",
       "      <td>0.505298</td>\n",
       "      <td>0.881942</td>\n",
       "      <td>-1</td>\n",
       "    </tr>\n",
       "    <tr>\n",
       "      <th>47</th>\n",
       "      <td>0.748610</td>\n",
       "      <td>-0.428325</td>\n",
       "      <td>1.148462</td>\n",
       "      <td>-2.699904</td>\n",
       "      <td>-1.800012</td>\n",
       "      <td>0.783621</td>\n",
       "      <td>-1</td>\n",
       "    </tr>\n",
       "    <tr>\n",
       "      <th>50</th>\n",
       "      <td>-1.633268</td>\n",
       "      <td>-1.299040</td>\n",
       "      <td>-1.216503</td>\n",
       "      <td>-2.337397</td>\n",
       "      <td>2.461319</td>\n",
       "      <td>-0.445397</td>\n",
       "      <td>-1</td>\n",
       "    </tr>\n",
       "    <tr>\n",
       "      <th>91</th>\n",
       "      <td>-0.792855</td>\n",
       "      <td>-0.083324</td>\n",
       "      <td>-0.763336</td>\n",
       "      <td>0.830590</td>\n",
       "      <td>4.169662</td>\n",
       "      <td>-0.598341</td>\n",
       "      <td>-1</td>\n",
       "    </tr>\n",
       "    <tr>\n",
       "      <th>111</th>\n",
       "      <td>-1.537245</td>\n",
       "      <td>-2.366898</td>\n",
       "      <td>-0.508429</td>\n",
       "      <td>1.003963</td>\n",
       "      <td>0.365582</td>\n",
       "      <td>-2.810573</td>\n",
       "      <td>-1</td>\n",
       "    </tr>\n",
       "    <tr>\n",
       "      <th>116</th>\n",
       "      <td>1.753876</td>\n",
       "      <td>0.754534</td>\n",
       "      <td>1.757405</td>\n",
       "      <td>1.145813</td>\n",
       "      <td>0.905393</td>\n",
       "      <td>-3.094613</td>\n",
       "      <td>-1</td>\n",
       "    </tr>\n",
       "    <tr>\n",
       "      <th>141</th>\n",
       "      <td>-0.522632</td>\n",
       "      <td>1.124177</td>\n",
       "      <td>0.100514</td>\n",
       "      <td>1.610766</td>\n",
       "      <td>0.822834</td>\n",
       "      <td>-1.439536</td>\n",
       "      <td>-1</td>\n",
       "    </tr>\n",
       "  </tbody>\n",
       "</table>\n",
       "</div>"
      ],
      "text/plain": [
       "     Log GDP per capita  Social support  Healthy life expectancy at birth  \\\n",
       "0             -1.444622       -2.580470                         -1.598862   \n",
       "22            -2.192411       -3.985114                         -2.675134   \n",
       "47             0.748610       -0.428325                          1.148462   \n",
       "50            -1.633268       -1.299040                         -1.216503   \n",
       "91            -0.792855       -0.083324                         -0.763336   \n",
       "111           -1.537245       -2.366898                         -0.508429   \n",
       "116            1.753876        0.754534                          1.757405   \n",
       "141           -0.522632        1.124177                          0.100514   \n",
       "\n",
       "     Freedom to make life choices  Generosity  Perceptions of corruption  \\\n",
       "0                       -2.786590   -0.726741                   1.231530   \n",
       "22                      -1.068626    0.505298                   0.881942   \n",
       "47                      -2.699904   -1.800012                   0.783621   \n",
       "50                      -2.337397    2.461319                  -0.445397   \n",
       "91                       0.830590    4.169662                  -0.598341   \n",
       "111                      1.003963    0.365582                  -2.810573   \n",
       "116                      1.145813    0.905393                  -3.094613   \n",
       "141                      1.610766    0.822834                  -1.439536   \n",
       "\n",
       "     Outlier  \n",
       "0         -1  \n",
       "22        -1  \n",
       "47        -1  \n",
       "50        -1  \n",
       "91        -1  \n",
       "111       -1  \n",
       "116       -1  \n",
       "141       -1  "
      ]
     },
     "execution_count": 28,
     "metadata": {},
     "output_type": "execute_result"
    }
   ],
   "source": [
    "if_x = scrubbed_df.drop(columns='Life Ladder')\n",
    "isf = IsolationForest(random_state=72, contamination=.05)\n",
    "isf.fit(if_x)\n",
    "if_x['Outlier'] = isf.predict(if_x)\n",
    "outlier_indices = if_x[if_x['Outlier']==-1].index\n",
    "if_x[if_x['Outlier']==-1]"
   ]
  },
  {
   "cell_type": "markdown",
   "id": "15d9b003",
   "metadata": {},
   "source": [
    "Confirm no need to drop any outliers by observing standard scaled datapoints for 5% greatest outliers"
   ]
  },
  {
   "cell_type": "code",
   "execution_count": 29,
   "id": "09c919db",
   "metadata": {},
   "outputs": [
    {
     "data": {
      "text/html": [
       "<div>\n",
       "<style scoped>\n",
       "    .dataframe tbody tr th:only-of-type {\n",
       "        vertical-align: middle;\n",
       "    }\n",
       "\n",
       "    .dataframe tbody tr th {\n",
       "        vertical-align: top;\n",
       "    }\n",
       "\n",
       "    .dataframe thead th {\n",
       "        text-align: right;\n",
       "    }\n",
       "</style>\n",
       "<table border=\"1\" class=\"dataframe\">\n",
       "  <thead>\n",
       "    <tr style=\"text-align: right;\">\n",
       "      <th></th>\n",
       "      <th>Log GDP per capita</th>\n",
       "      <th>Social support</th>\n",
       "      <th>Healthy life expectancy at birth</th>\n",
       "      <th>Freedom to make life choices</th>\n",
       "      <th>Generosity</th>\n",
       "      <th>Perceptions of corruption</th>\n",
       "    </tr>\n",
       "  </thead>\n",
       "  <tbody>\n",
       "    <tr>\n",
       "      <th>0</th>\n",
       "      <td>-1.423970</td>\n",
       "      <td>-2.590209</td>\n",
       "      <td>-1.619717</td>\n",
       "      <td>-2.797341</td>\n",
       "      <td>-0.729445</td>\n",
       "      <td>1.249394</td>\n",
       "    </tr>\n",
       "    <tr>\n",
       "      <th>22</th>\n",
       "      <td>-2.167027</td>\n",
       "      <td>-3.999512</td>\n",
       "      <td>-2.706426</td>\n",
       "      <td>-1.074261</td>\n",
       "      <td>0.509570</td>\n",
       "      <td>0.894080</td>\n",
       "    </tr>\n",
       "    <tr>\n",
       "      <th>47</th>\n",
       "      <td>0.755380</td>\n",
       "      <td>-0.430926</td>\n",
       "      <td>1.154251</td>\n",
       "      <td>-2.710397</td>\n",
       "      <td>-1.808794</td>\n",
       "      <td>0.794148</td>\n",
       "    </tr>\n",
       "    <tr>\n",
       "      <th>50</th>\n",
       "      <td>-1.611423</td>\n",
       "      <td>-1.304529</td>\n",
       "      <td>-1.233649</td>\n",
       "      <td>-2.346811</td>\n",
       "      <td>2.476666</td>\n",
       "      <td>-0.455005</td>\n",
       "    </tr>\n",
       "    <tr>\n",
       "      <th>91</th>\n",
       "      <td>-0.776329</td>\n",
       "      <td>-0.084781</td>\n",
       "      <td>-0.776087</td>\n",
       "      <td>0.830612</td>\n",
       "      <td>4.194682</td>\n",
       "      <td>-0.610455</td>\n",
       "    </tr>\n",
       "    <tr>\n",
       "      <th>111</th>\n",
       "      <td>-1.516008</td>\n",
       "      <td>-2.375929</td>\n",
       "      <td>-0.518709</td>\n",
       "      <td>1.004501</td>\n",
       "      <td>0.369063</td>\n",
       "      <td>-2.858930</td>\n",
       "    </tr>\n",
       "    <tr>\n",
       "      <th>116</th>\n",
       "      <td>1.754284</td>\n",
       "      <td>0.755856</td>\n",
       "      <td>1.769099</td>\n",
       "      <td>1.146774</td>\n",
       "      <td>0.911931</td>\n",
       "      <td>-3.147623</td>\n",
       "    </tr>\n",
       "    <tr>\n",
       "      <th>141</th>\n",
       "      <td>-0.507816</td>\n",
       "      <td>1.126725</td>\n",
       "      <td>0.096140</td>\n",
       "      <td>1.613112</td>\n",
       "      <td>0.828904</td>\n",
       "      <td>-1.465431</td>\n",
       "    </tr>\n",
       "  </tbody>\n",
       "</table>\n",
       "</div>"
      ],
      "text/plain": [
       "     Log GDP per capita  Social support  Healthy life expectancy at birth  \\\n",
       "0             -1.423970       -2.590209                         -1.619717   \n",
       "22            -2.167027       -3.999512                         -2.706426   \n",
       "47             0.755380       -0.430926                          1.154251   \n",
       "50            -1.611423       -1.304529                         -1.233649   \n",
       "91            -0.776329       -0.084781                         -0.776087   \n",
       "111           -1.516008       -2.375929                         -0.518709   \n",
       "116            1.754284        0.755856                          1.769099   \n",
       "141           -0.507816        1.126725                          0.096140   \n",
       "\n",
       "     Freedom to make life choices  Generosity  Perceptions of corruption  \n",
       "0                       -2.797341   -0.729445                   1.249394  \n",
       "22                      -1.074261    0.509570                   0.894080  \n",
       "47                      -2.710397   -1.808794                   0.794148  \n",
       "50                      -2.346811    2.476666                  -0.455005  \n",
       "91                       0.830612    4.194682                  -0.610455  \n",
       "111                      1.004501    0.369063                  -2.858930  \n",
       "116                      1.146774    0.911931                  -3.147623  \n",
       "141                      1.613112    0.828904                  -1.465431  "
      ]
     },
     "execution_count": 29,
     "metadata": {},
     "output_type": "execute_result"
    }
   ],
   "source": [
    "ss_x = if_x.drop(columns='Outlier')\n",
    "ss = StandardScaler()\n",
    "ss_x = pd.DataFrame(ss.fit_transform(ss_x), columns=ss_x.columns)\n",
    "ss_x.iloc[outlier_indices]"
   ]
  },
  {
   "cell_type": "markdown",
   "id": "7d96e10b",
   "metadata": {},
   "source": [
    "Calculate descriptive statistics for all variables in scrubbed_df"
   ]
  },
  {
   "cell_type": "code",
   "execution_count": 30,
   "id": "b5d9c029",
   "metadata": {},
   "outputs": [
    {
     "data": {
      "text/html": [
       "<div>\n",
       "<style scoped>\n",
       "    .dataframe tbody tr th:only-of-type {\n",
       "        vertical-align: middle;\n",
       "    }\n",
       "\n",
       "    .dataframe tbody tr th {\n",
       "        vertical-align: top;\n",
       "    }\n",
       "\n",
       "    .dataframe thead th {\n",
       "        text-align: right;\n",
       "    }\n",
       "</style>\n",
       "<table border=\"1\" class=\"dataframe\">\n",
       "  <thead>\n",
       "    <tr style=\"text-align: right;\">\n",
       "      <th></th>\n",
       "      <th>Life Ladder</th>\n",
       "      <th>Log GDP per capita</th>\n",
       "      <th>Social support</th>\n",
       "      <th>Healthy life expectancy at birth</th>\n",
       "      <th>Freedom to make life choices</th>\n",
       "      <th>Generosity</th>\n",
       "      <th>Perceptions of corruption</th>\n",
       "    </tr>\n",
       "  </thead>\n",
       "  <tbody>\n",
       "    <tr>\n",
       "      <th>count</th>\n",
       "      <td>147.000000</td>\n",
       "      <td>147.000000</td>\n",
       "      <td>147.000000</td>\n",
       "      <td>147.000000</td>\n",
       "      <td>147.000000</td>\n",
       "      <td>147.000000</td>\n",
       "      <td>147.000000</td>\n",
       "    </tr>\n",
       "    <tr>\n",
       "      <th>mean</th>\n",
       "      <td>5.460408</td>\n",
       "      <td>-0.011581</td>\n",
       "      <td>0.001177</td>\n",
       "      <td>0.005298</td>\n",
       "      <td>0.002444</td>\n",
       "      <td>-0.001403</td>\n",
       "      <td>0.002274</td>\n",
       "    </tr>\n",
       "    <tr>\n",
       "      <th>std</th>\n",
       "      <td>1.140804</td>\n",
       "      <td>1.009810</td>\n",
       "      <td>1.000102</td>\n",
       "      <td>0.993781</td>\n",
       "      <td>1.000439</td>\n",
       "      <td>0.997769</td>\n",
       "      <td>0.987245</td>\n",
       "    </tr>\n",
       "    <tr>\n",
       "      <th>min</th>\n",
       "      <td>2.662000</td>\n",
       "      <td>-2.192411</td>\n",
       "      <td>-3.985114</td>\n",
       "      <td>-2.675134</td>\n",
       "      <td>-2.786590</td>\n",
       "      <td>-1.800012</td>\n",
       "      <td>-3.094613</td>\n",
       "    </tr>\n",
       "    <tr>\n",
       "      <th>25%</th>\n",
       "      <td>4.619500</td>\n",
       "      <td>-0.775860</td>\n",
       "      <td>-0.588504</td>\n",
       "      <td>-0.727932</td>\n",
       "      <td>-0.528808</td>\n",
       "      <td>-0.815651</td>\n",
       "      <td>-0.303377</td>\n",
       "    </tr>\n",
       "    <tr>\n",
       "      <th>50%</th>\n",
       "      <td>5.553000</td>\n",
       "      <td>0.079848</td>\n",
       "      <td>0.187747</td>\n",
       "      <td>0.242128</td>\n",
       "      <td>0.255309</td>\n",
       "      <td>-0.148826</td>\n",
       "      <td>0.297476</td>\n",
       "    </tr>\n",
       "    <tr>\n",
       "      <th>75%</th>\n",
       "      <td>6.251500</td>\n",
       "      <td>0.829337</td>\n",
       "      <td>0.820248</td>\n",
       "      <td>0.659892</td>\n",
       "      <td>0.814829</td>\n",
       "      <td>0.632312</td>\n",
       "      <td>0.660719</td>\n",
       "    </tr>\n",
       "    <tr>\n",
       "      <th>max</th>\n",
       "      <td>7.788000</td>\n",
       "      <td>1.900885</td>\n",
       "      <td>1.329534</td>\n",
       "      <td>1.757405</td>\n",
       "      <td>1.610766</td>\n",
       "      <td>4.169662</td>\n",
       "      <td>1.231530</td>\n",
       "    </tr>\n",
       "  </tbody>\n",
       "</table>\n",
       "</div>"
      ],
      "text/plain": [
       "       Life Ladder  Log GDP per capita  Social support  \\\n",
       "count   147.000000          147.000000      147.000000   \n",
       "mean      5.460408           -0.011581        0.001177   \n",
       "std       1.140804            1.009810        1.000102   \n",
       "min       2.662000           -2.192411       -3.985114   \n",
       "25%       4.619500           -0.775860       -0.588504   \n",
       "50%       5.553000            0.079848        0.187747   \n",
       "75%       6.251500            0.829337        0.820248   \n",
       "max       7.788000            1.900885        1.329534   \n",
       "\n",
       "       Healthy life expectancy at birth  Freedom to make life choices  \\\n",
       "count                        147.000000                    147.000000   \n",
       "mean                           0.005298                      0.002444   \n",
       "std                            0.993781                      1.000439   \n",
       "min                           -2.675134                     -2.786590   \n",
       "25%                           -0.727932                     -0.528808   \n",
       "50%                            0.242128                      0.255309   \n",
       "75%                            0.659892                      0.814829   \n",
       "max                            1.757405                      1.610766   \n",
       "\n",
       "       Generosity  Perceptions of corruption  \n",
       "count  147.000000                 147.000000  \n",
       "mean    -0.001403                   0.002274  \n",
       "std      0.997769                   0.987245  \n",
       "min     -1.800012                  -3.094613  \n",
       "25%     -0.815651                  -0.303377  \n",
       "50%     -0.148826                   0.297476  \n",
       "75%      0.632312                   0.660719  \n",
       "max      4.169662                   1.231530  "
      ]
     },
     "execution_count": 30,
     "metadata": {},
     "output_type": "execute_result"
    }
   ],
   "source": [
    "scrubbed_df.describe()"
   ]
  },
  {
   "cell_type": "markdown",
   "id": "c410eabb",
   "metadata": {},
   "source": [
    "Plot distributions of all variables"
   ]
  },
  {
   "cell_type": "code",
   "execution_count": 31,
   "id": "fa2ff17f",
   "metadata": {},
   "outputs": [
    {
     "name": "stderr",
     "output_type": "stream",
     "text": [
      "/Library/Frameworks/Python.framework/Versions/3.9/lib/python3.9/site-packages/seaborn/distributions.py:2557: FutureWarning: `distplot` is a deprecated function and will be removed in a future version. Please adapt your code to use either `displot` (a figure-level function with similar flexibility) or `histplot` (an axes-level function for histograms).\n",
      "  warnings.warn(msg, FutureWarning)\n",
      "/Library/Frameworks/Python.framework/Versions/3.9/lib/python3.9/site-packages/seaborn/distributions.py:2557: FutureWarning: `distplot` is a deprecated function and will be removed in a future version. Please adapt your code to use either `displot` (a figure-level function with similar flexibility) or `histplot` (an axes-level function for histograms).\n",
      "  warnings.warn(msg, FutureWarning)\n",
      "/Library/Frameworks/Python.framework/Versions/3.9/lib/python3.9/site-packages/seaborn/distributions.py:2557: FutureWarning: `distplot` is a deprecated function and will be removed in a future version. Please adapt your code to use either `displot` (a figure-level function with similar flexibility) or `histplot` (an axes-level function for histograms).\n",
      "  warnings.warn(msg, FutureWarning)\n",
      "/Library/Frameworks/Python.framework/Versions/3.9/lib/python3.9/site-packages/seaborn/distributions.py:2557: FutureWarning: `distplot` is a deprecated function and will be removed in a future version. Please adapt your code to use either `displot` (a figure-level function with similar flexibility) or `histplot` (an axes-level function for histograms).\n",
      "  warnings.warn(msg, FutureWarning)\n",
      "/Library/Frameworks/Python.framework/Versions/3.9/lib/python3.9/site-packages/seaborn/distributions.py:2557: FutureWarning: `distplot` is a deprecated function and will be removed in a future version. Please adapt your code to use either `displot` (a figure-level function with similar flexibility) or `histplot` (an axes-level function for histograms).\n",
      "  warnings.warn(msg, FutureWarning)\n",
      "/Library/Frameworks/Python.framework/Versions/3.9/lib/python3.9/site-packages/seaborn/distributions.py:2557: FutureWarning: `distplot` is a deprecated function and will be removed in a future version. Please adapt your code to use either `displot` (a figure-level function with similar flexibility) or `histplot` (an axes-level function for histograms).\n",
      "  warnings.warn(msg, FutureWarning)\n",
      "/Library/Frameworks/Python.framework/Versions/3.9/lib/python3.9/site-packages/seaborn/distributions.py:2557: FutureWarning: `distplot` is a deprecated function and will be removed in a future version. Please adapt your code to use either `displot` (a figure-level function with similar flexibility) or `histplot` (an axes-level function for histograms).\n",
      "  warnings.warn(msg, FutureWarning)\n"
     ]
    },
    {
     "data": {
      "image/png": "[encoded data removed]",
      "text/plain": [
       "<Figure size 432x288 with 1 Axes>"
      ]
     },
     "metadata": {
      "needs_background": "light"
     },
     "output_type": "display_data"
    },
    {
     "data": {
      "image/png": "[encoded data removed]",
      "text/plain": [
       "<Figure size 432x288 with 1 Axes>"
      ]
     },
     "metadata": {
      "needs_background": "light"
     },
     "output_type": "display_data"
    },
    {
     "data": {
      "image/png": "[encoded data removed]",
      "text/plain": [
       "<Figure size 432x288 with 1 Axes>"
      ]
     },
     "metadata": {
      "needs_background": "light"
     },
     "output_type": "display_data"
    },
    {
     "data": {
      "image/png": "[encoded data removed]",
      "text/plain": [
       "<Figure size 432x288 with 1 Axes>"
      ]
     },
     "metadata": {
      "needs_background": "light"
     },
     "output_type": "display_data"
    },
    {
     "data": {
      "image/png": "[encoded data removed]",
      "text/plain": [
       "<Figure size 432x288 with 1 Axes>"
      ]
     },
     "metadata": {
      "needs_background": "light"
     },
     "output_type": "display_data"
    },
    {
     "data": {
      "image/png": "[encoded data removed]",
      "text/plain": [
       "<Figure size 432x288 with 1 Axes>"
      ]
     },
     "metadata": {
      "needs_background": "light"
     },
     "output_type": "display_data"
    },
    {
     "data": {
      "image/png": "[encoded data removed]",
      "text/plain": [
       "<Figure size 432x288 with 1 Axes>"
      ]
     },
     "metadata": {
      "needs_background": "light"
     },
     "output_type": "display_data"
    }
   ],
   "source": [
    "for var in scrubbed_df.columns:\n",
    "    fig, ax = plt.subplots()\n",
    "    sns.distplot(scrubbed_df[var], kde=True, bins=25, ax=ax)\n",
    "    ax.set_title(f'{var} Distribution Plot')"
   ]
  },
  {
   "cell_type": "markdown",
   "id": "8018fc7e",
   "metadata": {},
   "source": [
    "Create pairplots to represent relationships between each x variable and the dependent variable"
   ]
  },
  {
   "cell_type": "code",
   "execution_count": 32,
   "id": "124d1b37",
   "metadata": {},
   "outputs": [
    {
     "data": {
      "text/plain": [
       "<seaborn.axisgrid.PairGrid at 0x7ff4a39aba30>"
      ]
     },
     "execution_count": 32,
     "metadata": {},
     "output_type": "execute_result"
    },
    {
     "data": {
      "image/png": "[encoded data removed]",
      "text/plain": [
       "<Figure size 1080x180 with 6 Axes>"
      ]
     },
     "metadata": {
      "needs_background": "light"
     },
     "output_type": "display_data"
    }
   ],
   "source": [
    "x_vars = list(scrubbed_df.columns)\n",
    "x_vars.remove('Life Ladder')\n",
    "sns.pairplot(scrubbed_df, x_vars = x_vars, y_vars=['Life Ladder'], kind='reg')"
   ]
  },
  {
   "cell_type": "markdown",
   "id": "c1111505",
   "metadata": {},
   "source": [
    "# Model Data"
   ]
  },
  {
   "cell_type": "markdown",
   "id": "8a3e9532",
   "metadata": {},
   "source": [
    "Create x and y variables for modeling"
   ]
  },
  {
   "cell_type": "code",
   "execution_count": 70,
   "id": "4100dcd1",
   "metadata": {},
   "outputs": [],
   "source": [
    "x = scrubbed_df[x_vars]\n",
    "y = scrubbed_df['Life Ladder']"
   ]
  },
  {
   "cell_type": "markdown",
   "id": "cca95ca6",
   "metadata": {},
   "source": [
    "Perform train test split on x and y variables"
   ]
  },
  {
   "cell_type": "code",
   "execution_count": 71,
   "id": "08cae3c4",
   "metadata": {},
   "outputs": [],
   "source": [
    "x_train, x_test, y_train, y_test = train_test_split(x,y,random_state=73)"
   ]
  },
  {
   "cell_type": "markdown",
   "id": "2f5b5fed",
   "metadata": {},
   "source": [
    "Scale data using standard scaler"
   ]
  },
  {
   "cell_type": "code",
   "execution_count": 73,
   "id": "57b9aaeb",
   "metadata": {},
   "outputs": [],
   "source": [
    "ss = StandardScaler()\n",
    "ss.fit(x_train)\n",
    "x_train = pd.DataFrame(ss.transform(x_train), columns = x.columns)\n",
    "x_test = pd.DataFrame(ss.transform(x_test), columns = x.columns)"
   ]
  },
  {
   "cell_type": "markdown",
   "id": "4fc842ff",
   "metadata": {},
   "source": [
    "Build and evaluate dummy regressor model"
   ]
  },
  {
   "cell_type": "code",
   "execution_count": 74,
   "id": "20603f5a",
   "metadata": {},
   "outputs": [
    {
     "name": "stdout",
     "output_type": "stream",
     "text": [
      "Dummy Regressor Model:\n",
      "Train RMSE:  1.0843329975931846\n",
      "Train MAE:  0.9054497520661157\n",
      "Test RMSE:  1.2817352036963254\n",
      "Test MAE:  1.0728616707616705\n"
     ]
    }
   ],
   "source": [
    "dr = DummyRegressor()\n",
    "dr.fit(x_train, y_train)\n",
    "y_train_pred_dr = dr.predict(x_train)\n",
    "y_test_pred_dr = dr.predict(x_test)\n",
    "print('Dummy Regressor Model:')\n",
    "print('Train RMSE: ', np.sqrt(mean_squared_error(y_train, y_train_pred_dr)))\n",
    "print('Train MAE: ', mean_absolute_error(y_train, y_train_pred_dr))\n",
    "print('Test RMSE: ', np.sqrt(mean_squared_error(y_test, y_test_pred_dr)))\n",
    "print('Test MAE: ', mean_absolute_error(y_test, y_test_pred_dr))\n",
    "\n"
   ]
  },
  {
   "cell_type": "markdown",
   "id": "71122b7e",
   "metadata": {},
   "source": [
    "Build and evaluate linear regression model"
   ]
  },
  {
   "cell_type": "code",
   "execution_count": 76,
   "id": "c79ad370",
   "metadata": {},
   "outputs": [
    {
     "name": "stdout",
     "output_type": "stream",
     "text": [
      "Linear Regression Model\n",
      "Train RMSE:  0.5233380971154054\n",
      "Train MAE:  0.41421136631699196\n",
      "Test RMSE:  0.6824841972952352\n",
      "Test MAE:  0.5746087434142074\n"
     ]
    }
   ],
   "source": [
    "lr = LinearRegression()\n",
    "lr.fit(x_train, y_train)\n",
    "y_train_pred_lr = lr.predict(x_train)\n",
    "y_test_pred_lr = lr.predict(x_test)\n",
    "print('Linear Regression Model')\n",
    "print('Train RMSE: ', np.sqrt(mean_squared_error(y_train, y_train_pred_lr)))\n",
    "print('Train MAE: ', mean_absolute_error(y_train, y_train_pred_lr))\n",
    "print('Test RMSE: ', np.sqrt(mean_squared_error(y_test, y_test_pred_lr)))\n",
    "print('Test MAE: ', mean_absolute_error(y_test, y_test_pred_lr))"
   ]
  },
  {
   "cell_type": "markdown",
   "id": "a2d73f4a",
   "metadata": {},
   "source": [
    "Gridsearch Elastic Net model"
   ]
  },
  {
   "cell_type": "code",
   "execution_count": 101,
   "id": "c3cc4977",
   "metadata": {},
   "outputs": [
    {
     "name": "stdout",
     "output_type": "stream",
     "text": [
      "Fitting 5 folds for each of 11011 candidates, totalling 55055 fits\n",
      "{'alpha': 0.30000000000000004, 'l1_ratio': 0.0}\n"
     ]
    },
    {
     "name": "stderr",
     "output_type": "stream",
     "text": [
      "/Library/Frameworks/Python.framework/Versions/3.9/lib/python3.9/site-packages/sklearn/linear_model/_coordinate_descent.py:530: ConvergenceWarning: Objective did not converge. You might want to increase the number of iterations. Duality gap: 19.50491188569576, tolerance: 0.012933558546363636\n",
      "  model = cd_fast.enet_coordinate_descent(\n"
     ]
    }
   ],
   "source": [
    "en_dict = {'alpha': [x * 0.1 for x in range(0, 1001)], 'l1_ratio': [x * 0.1 for x in range(0, 11)]}\n",
    "en_model = ElasticNet()\n",
    "en = GridSearchCV(en_model, en_dict, cv=5, n_jobs=-1, \n",
    "                     scoring='neg_root_mean_squared_error', verbose=1) \n",
    "en.fit(x_train, y_train)\n",
    "print(en.best_params_)"
   ]
  },
  {
   "cell_type": "markdown",
   "id": "8b6bd517",
   "metadata": {},
   "source": [
    "Build and evaluate elastic net model"
   ]
  },
  {
   "cell_type": "code",
   "execution_count": 104,
   "id": "306554a6",
   "metadata": {},
   "outputs": [
    {
     "name": "stdout",
     "output_type": "stream",
     "text": [
      "Elastic Net Model\n",
      "Train RMSE:  0.530832896187741\n",
      "Train MAE:  0.4235435529967285\n",
      "Test RMSE:  0.7105461208122668\n",
      "Test MAE:  0.6084742708531561\n"
     ]
    },
    {
     "name": "stderr",
     "output_type": "stream",
     "text": [
      "/Library/Frameworks/Python.framework/Versions/3.9/lib/python3.9/site-packages/sklearn/linear_model/_coordinate_descent.py:530: ConvergenceWarning: Objective did not converge. You might want to increase the number of iterations. Duality gap: 19.504911885695766, tolerance: 0.012933558546363636\n",
      "  model = cd_fast.enet_coordinate_descent(\n"
     ]
    }
   ],
   "source": [
    "en = ElasticNet(alpha=.3, l1_ratio=0)\n",
    "en.fit(x_train, y_train)\n",
    "y_train_pred_en = en.predict(x_train)\n",
    "y_test_pred_en = en.predict(x_test)\n",
    "print('Elastic Net Model')\n",
    "print('Train RMSE: ', np.sqrt(mean_squared_error(y_train, y_train_pred_en)))\n",
    "print('Train MAE: ', mean_absolute_error(y_train, y_train_pred_en))\n",
    "print('Test RMSE: ', np.sqrt(mean_squared_error(y_test, y_test_pred_en)))\n",
    "print('Test MAE: ', mean_absolute_error(y_test, y_test_pred_en))"
   ]
  },
  {
   "cell_type": "code",
   "execution_count": null,
   "id": "2e98b7d6",
   "metadata": {},
   "outputs": [],
   "source": []
  }
 ],
 "metadata": {
  "kernelspec": {
   "display_name": "Python 3",
   "language": "python",
   "name": "python3"
  },
  "language_info": {
   "codemirror_mode": {
    "name": "ipython",
    "version": 3
   },
   "file_extension": ".py",
   "mimetype": "text/x-python",
   "name": "python",
   "nbconvert_exporter": "python",
   "pygments_lexer": "ipython3",
   "version": "3.9.5"
  }
 },
 "nbformat": 4,
 "nbformat_minor": 5
}
